{
  "cells": [
    {
      "cell_type": "markdown",
      "metadata": {
        "id": "view-in-github",
        "colab_type": "text"
      },
      "source": [
        "<a href=\"https://colab.research.google.com/github/guilhermevaz8/RL_Taxi_Problem/blob/main/MaskPPO_Taxi_5M.ipynb\" target=\"_parent\"><img src=\"https://colab.research.google.com/assets/colab-badge.svg\" alt=\"Open In Colab\"/></a>"
      ]
    },
    {
      "cell_type": "markdown",
      "metadata": {
        "id": "P8EZh1CJd4sS"
      },
      "source": [
        "<img src=\"https://cdn.comet.ml/img/notebook_logo.png\">  <img height=90px align=\"right\" src=\"https://raw.githubusercontent.com/Farama-Foundation/Gymnasium/main/gymnasium-text.png\">\n",
        "\n",
        "[Comet](https://www.comet.com/?utm_source=gymnasium&utm_medium=partner&utm_campaign=partner_gymnasium_2023&utm_content=comet_colab) helps accelerate machine learning through experiment tracking and production monitoring. Never lose track of your work and easily share results and collaborate across teams of all sizes.\n",
        "\n",
        "**This notebook shows you how to log your Gymnasium metrics with Comet.** For more information about Comet's integration with Gymnasium, visit our [Docs](https://www.comet.com/docs/v2/integrations/ml-frameworks/gymnasium/?utm_source=gymnasium&utm_medium=partner&utm_campaign=partner_gymnasium_2023&utm_content=comet_colab) page.\n",
        "\n",
        "If you prefer to preview what's to come, check out completed experiments created from this notebook [here](https://www.comet.com/examples/comet-examples-gymnasium-notebook/?utm_source=gymnasium&utm_medium=partner&utm_campaign=partner_gymnasium_2023&utm_content=comet_colab).\n",
        "\n"
      ]
    },
    {
      "cell_type": "markdown",
      "metadata": {
        "id": "aAHdYTSjYofy"
      },
      "source": [
        "# Install Required Packages"
      ]
    },
    {
      "cell_type": "code",
      "execution_count": null,
      "metadata": {
        "id": "Z-z0jRNUY0gp"
      },
      "outputs": [],
      "source": [
        "%pip install gymnasium comet_ml stable-baselines3 sb3_contrib"
      ]
    },
    {
      "cell_type": "markdown",
      "metadata": {
        "id": "cDi2frwiY6UA"
      },
      "source": [
        "# Initialize Comet\n",
        "\n",
        "Create your free account at [Comet.com](https://www.comet.com/signup?utm_source=gymnasium&utm_medium=partner&utm_campaign=partner_gymnasium_2023&utm_content=comet_colab) and grab your API key which can be found under account settings."
      ]
    },
    {
      "cell_type": "code",
      "execution_count": null,
      "metadata": {
        "id": "j9P00TNqmEXG"
      },
      "outputs": [],
      "source": [
        "import comet_ml\n",
        "\n",
        "comet_ml.init(project_name=\"comet-examples-gymnasium-notebook\")"
      ]
    },
    {
      "cell_type": "markdown",
      "metadata": {
        "id": "031ezY2Dr2n4"
      },
      "source": [
        "# Train an Agent using StableBaselines3 A2C Algorithm with DummyVecEnv"
      ]
    },
    {
      "cell_type": "code",
      "execution_count": null,
      "metadata": {
        "id": "--BIdIl2f5o6",
        "colab": {
          "base_uri": "https://localhost:8080/",
          "height": 654,
          "referenced_widgets": [
            "772c34ba301546f798bc47ab3df86a2b",
            "903ce5acc5a94e27be19e8f1b27f59ce"
          ]
        },
        "outputId": "57e3fac6-9ebd-441b-e499-1358cc82ceb6"
      },
      "outputs": [
        {
          "output_type": "stream",
          "name": "stderr",
          "text": [
            "\u001b[1;38;5;214mCOMET WARNING:\u001b[0m As you are running in a Jupyter environment, you will need to call `experiment.end()` when finished to ensure all metrics and code are logged before exiting.\n",
            "\u001b[1;38;5;39mCOMET INFO:\u001b[0m Couldn't find a Git repository in '/content' nor in any parent directory. Set `COMET_GIT_DIRECTORY` if your Git Repository is elsewhere.\n",
            "\u001b[1;38;5;39mCOMET INFO:\u001b[0m Experiment is live on comet.com https://www.comet.com/campiao/comet-examples-gymnasium-notebook/81d96b1935d24332bd988fca45179fc3\n",
            "\n"
          ]
        },
        {
          "output_type": "display_data",
          "data": {
            "text/plain": [
              "Output()"
            ],
            "application/vnd.jupyter.widget-view+json": {
              "version_major": 2,
              "version_minor": 0,
              "model_id": "772c34ba301546f798bc47ab3df86a2b"
            }
          },
          "metadata": {}
        },
        {
          "output_type": "display_data",
          "data": {
            "text/plain": [
              "/usr/local/lib/python3.10/dist-packages/gymnasium/core.py:311: UserWarning: \u001b[33mWARN: env.action_masks to get variables\u001b[0m\n",
              "\u001b[33mfrom other wrappers is deprecated and will be removed in v1.0, to get this variable you can do \u001b[0m\n",
              "\u001b[33m`env.unwrapped.action_masks` for environment variables or `env.get_wrapper_attr('action_masks')` that will search \u001b[0m\n",
              "\u001b[33mthe reminding wrappers.\u001b[0m\n",
              "  logger.warn(\n"
            ],
            "text/html": [
              "<pre style=\"white-space:pre;overflow-x:auto;line-height:normal;font-family:Menlo,'DejaVu Sans Mono',consolas,'Courier New',monospace\">/usr/local/lib/python3.10/dist-packages/gymnasium/core.py:311: UserWarning: <span style=\"color: #808000; text-decoration-color: #808000\">WARN: env.action_masks to get variables</span>\n",
              "<span style=\"color: #808000; text-decoration-color: #808000\">from other wrappers is deprecated and will be removed in v1.0, to get this variable you can do </span>\n",
              "<span style=\"color: #808000; text-decoration-color: #808000\">`env.unwrapped.action_masks` for environment variables or `env.get_wrapper_attr('action_masks')` that will search </span>\n",
              "<span style=\"color: #808000; text-decoration-color: #808000\">the reminding wrappers.</span>\n",
              "  logger.warn(\n",
              "</pre>\n"
            ]
          },
          "metadata": {}
        },
        {
          "output_type": "stream",
          "name": "stderr",
          "text": [
            "WARNING:urllib3.connectionpool:Retrying (Retry(total=2, connect=None, read=None, redirect=None, status=None)) after connection broken by 'ReadTimeoutError(\"HTTPSConnectionPool(host='www.comet.com', port=443): Read timed out. (read timeout=10)\")': /clientlib/status-report/update\n"
          ]
        },
        {
          "output_type": "display_data",
          "data": {
            "text/plain": [],
            "text/html": [
              "<pre style=\"white-space:pre;overflow-x:auto;line-height:normal;font-family:Menlo,'DejaVu Sans Mono',consolas,'Courier New',monospace\"></pre>\n"
            ]
          },
          "metadata": {}
        },
        {
          "output_type": "display_data",
          "data": {
            "text/plain": [
              "\n"
            ],
            "text/html": [
              "<pre style=\"white-space:pre;overflow-x:auto;line-height:normal;font-family:Menlo,'DejaVu Sans Mono',consolas,'Courier New',monospace\">\n",
              "</pre>\n"
            ]
          },
          "metadata": {}
        },
        {
          "output_type": "stream",
          "name": "stderr",
          "text": [
            "\u001b[1;38;5;39mCOMET INFO:\u001b[0m ---------------------------------------------------------------------------------------\n",
            "\u001b[1;38;5;39mCOMET INFO:\u001b[0m Comet.ml Experiment Summary\n",
            "\u001b[1;38;5;39mCOMET INFO:\u001b[0m ---------------------------------------------------------------------------------------\n",
            "\u001b[1;38;5;39mCOMET INFO:\u001b[0m   Data:\n",
            "\u001b[1;38;5;39mCOMET INFO:\u001b[0m     display_summary_level : 1\n",
            "\u001b[1;38;5;39mCOMET INFO:\u001b[0m     url                   : https://www.comet.com/campiao/comet-examples-gymnasium-notebook/81d96b1935d24332bd988fca45179fc3\n",
            "\u001b[1;38;5;39mCOMET INFO:\u001b[0m   Metrics [count] (min, max):\n",
            "\u001b[1;38;5;39mCOMET INFO:\u001b[0m     episode_length [339270] : (6, 200)\n",
            "\u001b[1;38;5;39mCOMET INFO:\u001b[0m     episode_reward [339270] : (-200, 15)\n",
            "\u001b[1;38;5;39mCOMET INFO:\u001b[0m     loss [78144]            : (-0.06284510344266891, 157.0519561767578)\n",
            "\u001b[1;38;5;39mCOMET INFO:\u001b[0m   Uploads:\n",
            "\u001b[1;38;5;39mCOMET INFO:\u001b[0m     environment details : 1\n",
            "\u001b[1;38;5;39mCOMET INFO:\u001b[0m     filename            : 1\n",
            "\u001b[1;38;5;39mCOMET INFO:\u001b[0m     installed packages  : 1\n",
            "\u001b[1;38;5;39mCOMET INFO:\u001b[0m     notebook            : 2\n",
            "\u001b[1;38;5;39mCOMET INFO:\u001b[0m     os packages         : 1\n",
            "\u001b[1;38;5;39mCOMET INFO:\u001b[0m     source_code         : 1\n",
            "\u001b[1;38;5;39mCOMET INFO:\u001b[0m \n",
            "\u001b[36m─────────────────────────────────────────────── \u001b[0m\u001b[1;36mNew Comet feature!\u001b[0m\u001b[36m ───────────────────────────────────────────────\u001b[0m\n",
            "Log your models to better track, deploy, share, and reproduce your work using: 'comet_ml.integration.pytorch.log_model'.\n",
            "Learn more at: https://comet.com/docs/v2/pytorch_log_model\n",
            "\n",
            "Hide this message by setting environment variable \"COMET_DISABLE_ANNOUNCEMENT=1\" \n",
            "\u001b[36m──────────────────────────────────────────────────────────────────────────────────────────────────────────────────\u001b[0m\n",
            "\u001b[1;38;5;39mCOMET INFO:\u001b[0m Uploading 4592 metrics, params and output messages\n"
          ]
        }
      ],
      "source": [
        "import gymnasium as gym\n",
        "import numpy as np\n",
        "from stable_baselines3.common.env_util import make_vec_env\n",
        "from stable_baselines3.common.vec_env import SubprocVecEnv\n",
        "\n",
        "from comet_ml.integration.gymnasium import CometLogger\n",
        "from sb3_contrib.common.maskable.policies import MaskableActorCriticPolicy\n",
        "from sb3_contrib.common.wrappers import ActionMasker\n",
        "from sb3_contrib.ppo_mask import MaskablePPO\n",
        "\n",
        "\n",
        "def mask_fn(env):\n",
        "    # Do whatever you'd like in this function to return the action mask\n",
        "    # for the current env. In this example, we assume the env has a\n",
        "    # helpful method we can rely on.\n",
        "    return env.unwrapped.action_mask(env.unwrapped.s)\n",
        "\n",
        "\n",
        "env = gym.make(\"Taxi-v3\")\n",
        "\n",
        "\n",
        "#env = gym.wrappers.RecordVideo(env, 'test')\n",
        "\n",
        "env = ActionMasker(env, mask_fn)  # Wrap to enable masking\n",
        "\n",
        "\n",
        "experiment = comet_ml.Experiment()\n",
        "\n",
        "env = CometLogger(env, experiment)\n",
        "\n",
        "# MaskablePPO behaves the same as SB3's PPO unless the env is wrapped\n",
        "# with ActionMasker. If the wrapper is detected, the masks are automatically\n",
        "# retrieved and used when learning. Note that MaskablePPO does not accept\n",
        "# a new action_mask_fn kwarg, as it did in an earlier draft.\n",
        "model = MaskablePPO(MaskableActorCriticPolicy, env, verbose=0)\n",
        "model.learn(total_timesteps=5_000_000, progress_bar=True)\n",
        "model.save(\"maskppo_taxi_5M\")\n",
        "\n",
        "env.close()\n",
        "experiment.end()"
      ]
    }
  ],
  "metadata": {
    "colab": {
      "provenance": [],
      "include_colab_link": true
    },
    "kernelspec": {
      "display_name": "Python 3 (ipykernel)",
      "language": "python",
      "name": "python3"
    },
    "language_info": {
      "codemirror_mode": {
        "name": "ipython",
        "version": 3
      },
      "file_extension": ".py",
      "mimetype": "text/x-python",
      "name": "python",
      "nbconvert_exporter": "python",
      "pygments_lexer": "ipython3",
      "version": "3.10.12"
    },
    "vscode": {
      "interpreter": {
        "hash": "8c9587381b2341d562742e36a89690be32a732b11830813473890249dd40a07d"
      }
    },
    "widgets": {
      "application/vnd.jupyter.widget-state+json": {
        "772c34ba301546f798bc47ab3df86a2b": {
          "model_module": "@jupyter-widgets/output",
          "model_name": "OutputModel",
          "model_module_version": "1.0.0",
          "state": {
            "_dom_classes": [],
            "_model_module": "@jupyter-widgets/output",
            "_model_module_version": "1.0.0",
            "_model_name": "OutputModel",
            "_view_count": null,
            "_view_module": "@jupyter-widgets/output",
            "_view_module_version": "1.0.0",
            "_view_name": "OutputView",
            "layout": "IPY_MODEL_903ce5acc5a94e27be19e8f1b27f59ce",
            "msg_id": "",
            "outputs": [
              {
                "output_type": "display_data",
                "data": {
                  "text/plain": "\u001b[35m 100%\u001b[0m \u001b[38;2;114;156;31m━━━━━━━━━━━━━━━━━━━━━━━━━━━━━━━━━━━━━━━━━━━━━━━━━━━━━━━\u001b[0m \u001b[32m5,001,182/5,000,000 \u001b[0m [ \u001b[33m4:39:11\u001b[0m < \u001b[36m0:00:00\u001b[0m , \u001b[31m362 it/s\u001b[0m ]\n",
                  "text/html": "<pre style=\"white-space:pre;overflow-x:auto;line-height:normal;font-family:Menlo,'DejaVu Sans Mono',consolas,'Courier New',monospace\"><span style=\"color: #800080; text-decoration-color: #800080\"> 100%</span> <span style=\"color: #729c1f; text-decoration-color: #729c1f\">━━━━━━━━━━━━━━━━━━━━━━━━━━━━━━━━━━━━━━━━━━━━━━━━━━━━━━━</span> <span style=\"color: #008000; text-decoration-color: #008000\">5,001,182/5,000,000 </span> [ <span style=\"color: #808000; text-decoration-color: #808000\">4:39:11</span> &lt; <span style=\"color: #008080; text-decoration-color: #008080\">0:00:00</span> , <span style=\"color: #800000; text-decoration-color: #800000\">362 it/s</span> ]\n</pre>\n"
                },
                "metadata": {}
              }
            ]
          }
        },
        "903ce5acc5a94e27be19e8f1b27f59ce": {
          "model_module": "@jupyter-widgets/base",
          "model_name": "LayoutModel",
          "model_module_version": "1.2.0",
          "state": {
            "_model_module": "@jupyter-widgets/base",
            "_model_module_version": "1.2.0",
            "_model_name": "LayoutModel",
            "_view_count": null,
            "_view_module": "@jupyter-widgets/base",
            "_view_module_version": "1.2.0",
            "_view_name": "LayoutView",
            "align_content": null,
            "align_items": null,
            "align_self": null,
            "border": null,
            "bottom": null,
            "display": null,
            "flex": null,
            "flex_flow": null,
            "grid_area": null,
            "grid_auto_columns": null,
            "grid_auto_flow": null,
            "grid_auto_rows": null,
            "grid_column": null,
            "grid_gap": null,
            "grid_row": null,
            "grid_template_areas": null,
            "grid_template_columns": null,
            "grid_template_rows": null,
            "height": null,
            "justify_content": null,
            "justify_items": null,
            "left": null,
            "margin": null,
            "max_height": null,
            "max_width": null,
            "min_height": null,
            "min_width": null,
            "object_fit": null,
            "object_position": null,
            "order": null,
            "overflow": null,
            "overflow_x": null,
            "overflow_y": null,
            "padding": null,
            "right": null,
            "top": null,
            "visibility": null,
            "width": null
          }
        }
      }
    }
  },
  "nbformat": 4,
  "nbformat_minor": 0
}