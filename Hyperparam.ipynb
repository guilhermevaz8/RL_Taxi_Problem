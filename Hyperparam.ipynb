{
  "nbformat": 4,
  "nbformat_minor": 0,
  "metadata": {
    "colab": {
      "provenance": [],
      "authorship_tag": "ABX9TyOxvaMKpH81RyY69u6B18PC",
      "include_colab_link": true
    },
    "kernelspec": {
      "name": "python3",
      "display_name": "Python 3"
    },
    "language_info": {
      "name": "python"
    }
  },
  "cells": [
    {
      "cell_type": "markdown",
      "metadata": {
        "id": "view-in-github",
        "colab_type": "text"
      },
      "source": [
        "<a href=\"https://colab.research.google.com/github/guilhermevaz8/RL_Taxi_Problem/blob/main/Hyperparam.ipynb\" target=\"_parent\"><img src=\"https://colab.research.google.com/assets/colab-badge.svg\" alt=\"Open In Colab\"/></a>"
      ]
    },
    {
      "cell_type": "code",
      "execution_count": 1,
      "metadata": {
        "colab": {
          "base_uri": "https://localhost:8080/"
        },
        "id": "xPyCs1iPQCW_",
        "outputId": "7608f579-16c4-4e1b-df9f-6879d8326fb5"
      },
      "outputs": [
        {
          "output_type": "stream",
          "name": "stdout",
          "text": [
            "Collecting gymnasium\n",
            "  Downloading gymnasium-0.29.1-py3-none-any.whl (953 kB)\n",
            "\u001b[2K     \u001b[90m━━━━━━━━━━━━━━━━━━━━━━━━━━━━━━━━━━━━━━━━\u001b[0m \u001b[32m953.9/953.9 kB\u001b[0m \u001b[31m7.8 MB/s\u001b[0m eta \u001b[36m0:00:00\u001b[0m\n",
            "\u001b[?25hCollecting comet_ml\n",
            "  Downloading comet_ml-3.35.5-py3-none-any.whl (586 kB)\n",
            "\u001b[2K     \u001b[90m━━━━━━━━━━━━━━━━━━━━━━━━━━━━━━━━━━━━━━━━\u001b[0m \u001b[32m586.8/586.8 kB\u001b[0m \u001b[31m15.5 MB/s\u001b[0m eta \u001b[36m0:00:00\u001b[0m\n",
            "\u001b[?25hCollecting stable-baselines3\n",
            "  Downloading stable_baselines3-2.2.1-py3-none-any.whl (181 kB)\n",
            "\u001b[2K     \u001b[90m━━━━━━━━━━━━━━━━━━━━━━━━━━━━━━━━━━━━━━━━\u001b[0m \u001b[32m181.7/181.7 kB\u001b[0m \u001b[31m11.4 MB/s\u001b[0m eta \u001b[36m0:00:00\u001b[0m\n",
            "\u001b[?25hCollecting sb3_contrib\n",
            "  Downloading sb3_contrib-2.2.1-py3-none-any.whl (80 kB)\n",
            "\u001b[2K     \u001b[90m━━━━━━━━━━━━━━━━━━━━━━━━━━━━━━━━━━━━━━━━\u001b[0m \u001b[32m80.7/80.7 kB\u001b[0m \u001b[31m6.8 MB/s\u001b[0m eta \u001b[36m0:00:00\u001b[0m\n",
            "\u001b[?25hRequirement already satisfied: numpy>=1.21.0 in /usr/local/lib/python3.10/dist-packages (from gymnasium) (1.23.5)\n",
            "Requirement already satisfied: cloudpickle>=1.2.0 in /usr/local/lib/python3.10/dist-packages (from gymnasium) (2.2.1)\n",
            "Requirement already satisfied: typing-extensions>=4.3.0 in /usr/local/lib/python3.10/dist-packages (from gymnasium) (4.5.0)\n",
            "Collecting farama-notifications>=0.0.1 (from gymnasium)\n",
            "  Downloading Farama_Notifications-0.0.4-py3-none-any.whl (2.5 kB)\n",
            "Requirement already satisfied: jsonschema!=3.1.0,>=2.6.0 in /usr/local/lib/python3.10/dist-packages (from comet_ml) (4.19.2)\n",
            "Requirement already satisfied: psutil>=5.6.3 in /usr/local/lib/python3.10/dist-packages (from comet_ml) (5.9.5)\n",
            "Collecting python-box<7.0.0 (from comet_ml)\n",
            "  Downloading python_box-6.1.0-cp310-cp310-manylinux_2_17_x86_64.manylinux2014_x86_64.whl (3.3 MB)\n",
            "\u001b[2K     \u001b[90m━━━━━━━━━━━━━━━━━━━━━━━━━━━━━━━━━━━━━━━━\u001b[0m \u001b[32m3.3/3.3 MB\u001b[0m \u001b[31m24.7 MB/s\u001b[0m eta \u001b[36m0:00:00\u001b[0m\n",
            "\u001b[?25hCollecting requests-toolbelt>=0.8.0 (from comet_ml)\n",
            "  Downloading requests_toolbelt-1.0.0-py2.py3-none-any.whl (54 kB)\n",
            "\u001b[2K     \u001b[90m━━━━━━━━━━━━━━━━━━━━━━━━━━━━━━━━━━━━━━━━\u001b[0m \u001b[32m54.5/54.5 kB\u001b[0m \u001b[31m4.0 MB/s\u001b[0m eta \u001b[36m0:00:00\u001b[0m\n",
            "\u001b[?25hRequirement already satisfied: requests>=2.18.4 in /usr/local/lib/python3.10/dist-packages (from comet_ml) (2.31.0)\n",
            "Collecting semantic-version>=2.8.0 (from comet_ml)\n",
            "  Downloading semantic_version-2.10.0-py2.py3-none-any.whl (15 kB)\n",
            "Collecting sentry-sdk>=1.1.0 (from comet_ml)\n",
            "  Downloading sentry_sdk-1.39.1-py2.py3-none-any.whl (254 kB)\n",
            "\u001b[2K     \u001b[90m━━━━━━━━━━━━━━━━━━━━━━━━━━━━━━━━━━━━━━━━\u001b[0m \u001b[32m254.1/254.1 kB\u001b[0m \u001b[31m14.1 MB/s\u001b[0m eta \u001b[36m0:00:00\u001b[0m\n",
            "\u001b[?25hCollecting simplejson (from comet_ml)\n",
            "  Downloading simplejson-3.19.2-cp310-cp310-manylinux_2_5_x86_64.manylinux1_x86_64.manylinux_2_17_x86_64.manylinux2014_x86_64.whl (137 kB)\n",
            "\u001b[2K     \u001b[90m━━━━━━━━━━━━━━━━━━━━━━━━━━━━━━━━━━━━━━━━\u001b[0m \u001b[32m137.9/137.9 kB\u001b[0m \u001b[31m4.0 MB/s\u001b[0m eta \u001b[36m0:00:00\u001b[0m\n",
            "\u001b[?25hRequirement already satisfied: six in /usr/local/lib/python3.10/dist-packages (from comet_ml) (1.16.0)\n",
            "Requirement already satisfied: urllib3>=1.21.1 in /usr/local/lib/python3.10/dist-packages (from comet_ml) (2.0.7)\n",
            "Collecting websocket-client<1.4.0,>=0.55.0 (from comet_ml)\n",
            "  Downloading websocket_client-1.3.3-py3-none-any.whl (54 kB)\n",
            "\u001b[2K     \u001b[90m━━━━━━━━━━━━━━━━━━━━━━━━━━━━━━━━━━━━━━━━\u001b[0m \u001b[32m54.3/54.3 kB\u001b[0m \u001b[31m2.9 MB/s\u001b[0m eta \u001b[36m0:00:00\u001b[0m\n",
            "\u001b[?25hRequirement already satisfied: wrapt>=1.11.2 in /usr/local/lib/python3.10/dist-packages (from comet_ml) (1.14.1)\n",
            "Collecting wurlitzer>=1.0.2 (from comet_ml)\n",
            "  Downloading wurlitzer-3.0.3-py3-none-any.whl (7.3 kB)\n",
            "Collecting everett[ini]<3.2.0,>=1.0.1 (from comet_ml)\n",
            "  Downloading everett-3.1.0-py2.py3-none-any.whl (35 kB)\n",
            "Collecting dulwich!=0.20.33,>=0.20.6 (from comet_ml)\n",
            "  Downloading dulwich-0.21.7-cp310-cp310-manylinux_2_17_x86_64.manylinux2014_x86_64.whl (514 kB)\n",
            "\u001b[2K     \u001b[90m━━━━━━━━━━━━━━━━━━━━━━━━━━━━━━━━━━━━━━━━\u001b[0m \u001b[32m514.7/514.7 kB\u001b[0m \u001b[31m8.0 MB/s\u001b[0m eta \u001b[36m0:00:00\u001b[0m\n",
            "\u001b[?25hRequirement already satisfied: rich>=13.3.2 in /usr/local/lib/python3.10/dist-packages (from comet_ml) (13.7.0)\n",
            "Requirement already satisfied: torch>=1.13 in /usr/local/lib/python3.10/dist-packages (from stable-baselines3) (2.1.0+cu121)\n",
            "Requirement already satisfied: pandas in /usr/local/lib/python3.10/dist-packages (from stable-baselines3) (1.5.3)\n",
            "Requirement already satisfied: matplotlib in /usr/local/lib/python3.10/dist-packages (from stable-baselines3) (3.7.1)\n",
            "Collecting configobj (from everett[ini]<3.2.0,>=1.0.1->comet_ml)\n",
            "  Downloading configobj-5.0.8-py2.py3-none-any.whl (36 kB)\n",
            "Requirement already satisfied: attrs>=22.2.0 in /usr/local/lib/python3.10/dist-packages (from jsonschema!=3.1.0,>=2.6.0->comet_ml) (23.1.0)\n",
            "Requirement already satisfied: jsonschema-specifications>=2023.03.6 in /usr/local/lib/python3.10/dist-packages (from jsonschema!=3.1.0,>=2.6.0->comet_ml) (2023.11.2)\n",
            "Requirement already satisfied: referencing>=0.28.4 in /usr/local/lib/python3.10/dist-packages (from jsonschema!=3.1.0,>=2.6.0->comet_ml) (0.32.0)\n",
            "Requirement already satisfied: rpds-py>=0.7.1 in /usr/local/lib/python3.10/dist-packages (from jsonschema!=3.1.0,>=2.6.0->comet_ml) (0.13.2)\n",
            "Requirement already satisfied: charset-normalizer<4,>=2 in /usr/local/lib/python3.10/dist-packages (from requests>=2.18.4->comet_ml) (3.3.2)\n",
            "Requirement already satisfied: idna<4,>=2.5 in /usr/local/lib/python3.10/dist-packages (from requests>=2.18.4->comet_ml) (3.6)\n",
            "Requirement already satisfied: certifi>=2017.4.17 in /usr/local/lib/python3.10/dist-packages (from requests>=2.18.4->comet_ml) (2023.11.17)\n",
            "Requirement already satisfied: markdown-it-py>=2.2.0 in /usr/local/lib/python3.10/dist-packages (from rich>=13.3.2->comet_ml) (3.0.0)\n",
            "Requirement already satisfied: pygments<3.0.0,>=2.13.0 in /usr/local/lib/python3.10/dist-packages (from rich>=13.3.2->comet_ml) (2.16.1)\n",
            "Requirement already satisfied: filelock in /usr/local/lib/python3.10/dist-packages (from torch>=1.13->stable-baselines3) (3.13.1)\n",
            "Requirement already satisfied: sympy in /usr/local/lib/python3.10/dist-packages (from torch>=1.13->stable-baselines3) (1.12)\n",
            "Requirement already satisfied: networkx in /usr/local/lib/python3.10/dist-packages (from torch>=1.13->stable-baselines3) (3.2.1)\n",
            "Requirement already satisfied: jinja2 in /usr/local/lib/python3.10/dist-packages (from torch>=1.13->stable-baselines3) (3.1.2)\n",
            "Requirement already satisfied: fsspec in /usr/local/lib/python3.10/dist-packages (from torch>=1.13->stable-baselines3) (2023.6.0)\n",
            "Requirement already satisfied: triton==2.1.0 in /usr/local/lib/python3.10/dist-packages (from torch>=1.13->stable-baselines3) (2.1.0)\n",
            "Requirement already satisfied: contourpy>=1.0.1 in /usr/local/lib/python3.10/dist-packages (from matplotlib->stable-baselines3) (1.2.0)\n",
            "Requirement already satisfied: cycler>=0.10 in /usr/local/lib/python3.10/dist-packages (from matplotlib->stable-baselines3) (0.12.1)\n",
            "Requirement already satisfied: fonttools>=4.22.0 in /usr/local/lib/python3.10/dist-packages (from matplotlib->stable-baselines3) (4.46.0)\n",
            "Requirement already satisfied: kiwisolver>=1.0.1 in /usr/local/lib/python3.10/dist-packages (from matplotlib->stable-baselines3) (1.4.5)\n",
            "Requirement already satisfied: packaging>=20.0 in /usr/local/lib/python3.10/dist-packages (from matplotlib->stable-baselines3) (23.2)\n",
            "Requirement already satisfied: pillow>=6.2.0 in /usr/local/lib/python3.10/dist-packages (from matplotlib->stable-baselines3) (9.4.0)\n",
            "Requirement already satisfied: pyparsing>=2.3.1 in /usr/local/lib/python3.10/dist-packages (from matplotlib->stable-baselines3) (3.1.1)\n",
            "Requirement already satisfied: python-dateutil>=2.7 in /usr/local/lib/python3.10/dist-packages (from matplotlib->stable-baselines3) (2.8.2)\n",
            "Requirement already satisfied: pytz>=2020.1 in /usr/local/lib/python3.10/dist-packages (from pandas->stable-baselines3) (2023.3.post1)\n",
            "Requirement already satisfied: mdurl~=0.1 in /usr/local/lib/python3.10/dist-packages (from markdown-it-py>=2.2.0->rich>=13.3.2->comet_ml) (0.1.2)\n",
            "Requirement already satisfied: MarkupSafe>=2.0 in /usr/local/lib/python3.10/dist-packages (from jinja2->torch>=1.13->stable-baselines3) (2.1.3)\n",
            "Requirement already satisfied: mpmath>=0.19 in /usr/local/lib/python3.10/dist-packages (from sympy->torch>=1.13->stable-baselines3) (1.3.0)\n",
            "Installing collected packages: farama-notifications, everett, wurlitzer, websocket-client, simplejson, sentry-sdk, semantic-version, python-box, gymnasium, dulwich, configobj, requests-toolbelt, stable-baselines3, sb3_contrib, comet_ml\n",
            "  Attempting uninstall: websocket-client\n",
            "    Found existing installation: websocket-client 1.7.0\n",
            "    Uninstalling websocket-client-1.7.0:\n",
            "      Successfully uninstalled websocket-client-1.7.0\n",
            "  Attempting uninstall: python-box\n",
            "    Found existing installation: python-box 7.1.1\n",
            "    Uninstalling python-box-7.1.1:\n",
            "      Successfully uninstalled python-box-7.1.1\n",
            "Successfully installed comet_ml-3.35.5 configobj-5.0.8 dulwich-0.21.7 everett-3.1.0 farama-notifications-0.0.4 gymnasium-0.29.1 python-box-6.1.0 requests-toolbelt-1.0.0 sb3_contrib-2.2.1 semantic-version-2.10.0 sentry-sdk-1.39.1 simplejson-3.19.2 stable-baselines3-2.2.1 websocket-client-1.3.3 wurlitzer-3.0.3\n"
          ]
        }
      ],
      "source": [
        "%pip install gymnasium comet_ml stable-baselines3 sb3_contrib"
      ]
    },
    {
      "cell_type": "code",
      "source": [
        "import comet_ml\n",
        "\n",
        "comet_ml.init(project_name=\"comet-examples-gymnasium-notebook\")"
      ],
      "metadata": {
        "colab": {
          "base_uri": "https://localhost:8080/"
        },
        "id": "wenEEix_QJ1Y",
        "outputId": "b4be1343-2062-4e26-a5b5-9675d8074948"
      },
      "execution_count": 2,
      "outputs": [
        {
          "name": "stdout",
          "output_type": "stream",
          "text": [
            "Please paste your Comet API key from https://www.comet.com/api/my/settings/\n",
            "(api key may not show as you type)\n",
            "Comet API key: ··········\n"
          ]
        },
        {
          "output_type": "stream",
          "name": "stderr",
          "text": [
            "\u001b[1;38;5;39mCOMET INFO:\u001b[0m Valid Comet API Key saved in /root/.comet.config (set COMET_CONFIG to change where it is saved).\n"
          ]
        }
      ]
    },
    {
      "cell_type": "code",
      "source": [
        "pip install ray"
      ],
      "metadata": {
        "colab": {
          "base_uri": "https://localhost:8080/"
        },
        "id": "eC8px8J0Q3ju",
        "outputId": "1feb78cc-2b35-43af-8fd4-4888db326af9"
      },
      "execution_count": 4,
      "outputs": [
        {
          "output_type": "stream",
          "name": "stderr",
          "text": [
            "/usr/local/lib/python3.10/dist-packages/ipykernel/ipkernel.py:283: DeprecationWarning: `should_run_async` will not call `transform_cell` automatically in the future. Please pass the result to `transformed_cell` argument and any exception that happen during thetransform in `preprocessing_exc_tuple` in IPython 7.17 and above.\n",
            "  and should_run_async(code)\n"
          ]
        },
        {
          "output_type": "stream",
          "name": "stdout",
          "text": [
            "Collecting ray\n",
            "  Downloading ray-2.8.1-cp310-cp310-manylinux2014_x86_64.whl (62.6 MB)\n",
            "\u001b[2K     \u001b[90m━━━━━━━━━━━━━━━━━━━━━━━━━━━━━━━━━━━━━━━━\u001b[0m \u001b[32m62.6/62.6 MB\u001b[0m \u001b[31m11.8 MB/s\u001b[0m eta \u001b[36m0:00:00\u001b[0m\n",
            "\u001b[?25hRequirement already satisfied: click>=7.0 in /usr/local/lib/python3.10/dist-packages (from ray) (8.1.7)\n",
            "Requirement already satisfied: filelock in /usr/local/lib/python3.10/dist-packages (from ray) (3.13.1)\n",
            "Requirement already satisfied: jsonschema in /usr/local/lib/python3.10/dist-packages (from ray) (4.19.2)\n",
            "Requirement already satisfied: msgpack<2.0.0,>=1.0.0 in /usr/local/lib/python3.10/dist-packages (from ray) (1.0.7)\n",
            "Requirement already satisfied: packaging in /usr/local/lib/python3.10/dist-packages (from ray) (23.2)\n",
            "Requirement already satisfied: protobuf!=3.19.5,>=3.15.3 in /usr/local/lib/python3.10/dist-packages (from ray) (3.20.3)\n",
            "Requirement already satisfied: pyyaml in /usr/local/lib/python3.10/dist-packages (from ray) (6.0.1)\n",
            "Requirement already satisfied: aiosignal in /usr/local/lib/python3.10/dist-packages (from ray) (1.3.1)\n",
            "Requirement already satisfied: frozenlist in /usr/local/lib/python3.10/dist-packages (from ray) (1.4.0)\n",
            "Requirement already satisfied: requests in /usr/local/lib/python3.10/dist-packages (from ray) (2.31.0)\n",
            "Requirement already satisfied: numpy>=1.19.3 in /usr/local/lib/python3.10/dist-packages (from ray) (1.23.5)\n",
            "Requirement already satisfied: attrs>=22.2.0 in /usr/local/lib/python3.10/dist-packages (from jsonschema->ray) (23.1.0)\n",
            "Requirement already satisfied: jsonschema-specifications>=2023.03.6 in /usr/local/lib/python3.10/dist-packages (from jsonschema->ray) (2023.11.2)\n",
            "Requirement already satisfied: referencing>=0.28.4 in /usr/local/lib/python3.10/dist-packages (from jsonschema->ray) (0.32.0)\n",
            "Requirement already satisfied: rpds-py>=0.7.1 in /usr/local/lib/python3.10/dist-packages (from jsonschema->ray) (0.13.2)\n",
            "Requirement already satisfied: charset-normalizer<4,>=2 in /usr/local/lib/python3.10/dist-packages (from requests->ray) (3.3.2)\n",
            "Requirement already satisfied: idna<4,>=2.5 in /usr/local/lib/python3.10/dist-packages (from requests->ray) (3.6)\n",
            "Requirement already satisfied: urllib3<3,>=1.21.1 in /usr/local/lib/python3.10/dist-packages (from requests->ray) (2.0.7)\n",
            "Requirement already satisfied: certifi>=2017.4.17 in /usr/local/lib/python3.10/dist-packages (from requests->ray) (2023.11.17)\n",
            "Installing collected packages: ray\n",
            "Successfully installed ray-2.8.1\n"
          ]
        }
      ]
    },
    {
      "cell_type": "code",
      "source": [
        "import gym\n",
        "import numpy as np\n",
        "from ray import tune\n",
        "from comet_ml import Experiment\n",
        "from stable_baselines3.common.callbacks import EvalCallback\n",
        "from sb3_contrib.common.maskable.policies import MaskableActorCriticPolicy\n",
        "from sb3_contrib.common.wrappers import ActionMasker\n",
        "from sb3_contrib.ppo_mask import MaskablePPO\n",
        "\n",
        "def mask_fn(env):\n",
        "    # Implement your action mask function here\n",
        "    return env.unwrapped.action_mask(env.unwrapped.s)\n",
        "\n",
        "def train_maskable_ppo(config):\n",
        "    env = gym.make(\"Taxi-v3\")\n",
        "    env = ActionMasker(env, mask_fn)\n",
        "\n",
        "    model = MaskablePPO(\n",
        "        MaskableActorCriticPolicy,\n",
        "        env,\n",
        "        learning_rate=config['learning_rate'],\n",
        "        ent_coef=config['ent_coef'],\n",
        "        verbose=0\n",
        "    )\n",
        "\n",
        "    # Treina o modelo por um número fixo de iterações\n",
        "    model.learn(total_timesteps=5000000)\n",
        "\n",
        "    return model\n",
        "\n",
        "if __name__ == \"__main__\":\n",
        "    # Realiza a otimização de hiperparâmetros com o Ray Tune\n",
        "    analysis = tune.run(\n",
        "        train_maskable_ppo,\n",
        "        config={\n",
        "            'learning_rate': tune.loguniform(1e-5, 1e-2),\n",
        "            'ent_coef': tune.uniform(0.0, 0.2)\n",
        "        },\n",
        "        num_samples=50,\n",
        "        verbose=1\n",
        "    )\n",
        "\n",
        "    # Obtém a melhor configuração\n",
        "    best_config = analysis.get_best_config(metric=\"mean_reward\", mode=\"max\")\n",
        "\n",
        "    # Treina o MaskablePPO com a melhor configuração\n",
        "    best_model = train_maskable_ppo(best_config)\n",
        "\n",
        "    # Avalia o melhor modelo e salva os resultados no Comet\n",
        "    eval_env = gym.make(\"Taxi-v3\")\n",
        "    eval_env = ActionMasker(eval_env, mask_fn)\n",
        "\n",
        "    mean_reward, _ = best_model.evaluate(eval_env, n_eval_episodes=5)\n",
        "\n",
        "    experiment = Experiment()\n",
        "    experiment.log_metric(\"final_best_mean_reward\", mean_reward)\n",
        "    experiment.end()\n"
      ],
      "metadata": {
        "colab": {
          "base_uri": "https://localhost:8080/"
        },
        "id": "Yn8JbkuYQMWz",
        "outputId": "f998d7a6-1730-45c9-b87e-f374a6055d4d"
      },
      "execution_count": null,
      "outputs": [
        {
          "output_type": "stream",
          "name": "stderr",
          "text": [
            "2023-12-15 12:15:36,246\tINFO tune.py:595 -- [output] This will use the new output engine with verbosity 1. To disable the new output and use the legacy output engine, set the environment variable RAY_AIR_NEW_OUTPUT=0. For more information, please see https://github.com/ray-project/ray/issues/36949\n",
            "2023-12-15 12:15:36,299\tWARNING callback.py:137 -- The TensorboardX logger cannot be instantiated because either TensorboardX or one of it's dependencies is not installed. Please make sure you have the latest version of TensorboardX installed: `pip install -U tensorboardx`\n"
          ]
        },
        {
          "output_type": "stream",
          "name": "stdout",
          "text": [
            "+---------------------------------------------------------------------------+\n",
            "| Configuration for experiment     train_maskable_ppo_2023-12-15_12-15-36   |\n",
            "+---------------------------------------------------------------------------+\n",
            "| Search algorithm                 BasicVariantGenerator                    |\n",
            "| Scheduler                        FIFOScheduler                            |\n",
            "| Number of trials                 50                                       |\n",
            "+---------------------------------------------------------------------------+\n",
            "\n",
            "View detailed results here: /root/ray_results/train_maskable_ppo_2023-12-15_12-15-36\n",
            "\n",
            "Trial status: 16 PENDING\n",
            "Current time: 2023-12-15 12:15:36. Total running time: 0s\n",
            "Logical resource usage: 0/2 CPUs, 0/0 GPUs\n",
            "+--------------------------------------------------------------------------+\n",
            "| Trial name                       status       learning_rate     ent_coef |\n",
            "+--------------------------------------------------------------------------+\n",
            "| train_maskable_ppo_a70f7_00000   PENDING        2.54504e-05    0.153055  |\n",
            "| train_maskable_ppo_a70f7_00001   PENDING        0.00012366     0.008491  |\n",
            "| train_maskable_ppo_a70f7_00002   PENDING        0.00134455     0.19954   |\n",
            "| train_maskable_ppo_a70f7_00003   PENDING        0.0049305      0.149473  |\n",
            "| train_maskable_ppo_a70f7_00004   PENDING        0.00230209     0.03906   |\n",
            "| train_maskable_ppo_a70f7_00005   PENDING        0.000750746    0.0322801 |\n",
            "| train_maskable_ppo_a70f7_00006   PENDING        0.00093633     0.107048  |\n",
            "| train_maskable_ppo_a70f7_00007   PENDING        0.00237252     0.0622855 |\n",
            "| train_maskable_ppo_a70f7_00008   PENDING        0.00102495     0.09487   |\n",
            "| train_maskable_ppo_a70f7_00009   PENDING        1.06852e-05    0.0845967 |\n",
            "| train_maskable_ppo_a70f7_00010   PENDING        2.96259e-05    0.0728003 |\n",
            "| train_maskable_ppo_a70f7_00011   PENDING        9.64525e-05    0.0544582 |\n",
            "| train_maskable_ppo_a70f7_00012   PENDING        0.000276356    0.17712   |\n",
            "| train_maskable_ppo_a70f7_00013   PENDING        0.00155092     0.173628  |\n",
            "| train_maskable_ppo_a70f7_00014   PENDING        2.47885e-05    0.1824    |\n",
            "| train_maskable_ppo_a70f7_00015   PENDING        7.80625e-05    0.198902  |\n",
            "+--------------------------------------------------------------------------+\n",
            "Trial status: 16 PENDING\n",
            "Current time: 2023-12-15 12:16:06. Total running time: 30s\n",
            "Logical resource usage: 0/2 CPUs, 0/0 GPUs\n",
            "+--------------------------------------------------------------------------+\n",
            "| Trial name                       status       learning_rate     ent_coef |\n",
            "+--------------------------------------------------------------------------+\n",
            "| train_maskable_ppo_a70f7_00000   PENDING        2.54504e-05    0.153055  |\n",
            "| train_maskable_ppo_a70f7_00001   PENDING        0.00012366     0.008491  |\n",
            "| train_maskable_ppo_a70f7_00002   PENDING        0.00134455     0.19954   |\n",
            "| train_maskable_ppo_a70f7_00003   PENDING        0.0049305      0.149473  |\n",
            "| train_maskable_ppo_a70f7_00004   PENDING        0.00230209     0.03906   |\n",
            "| train_maskable_ppo_a70f7_00005   PENDING        0.000750746    0.0322801 |\n",
            "| train_maskable_ppo_a70f7_00006   PENDING        0.00093633     0.107048  |\n",
            "| train_maskable_ppo_a70f7_00007   PENDING        0.00237252     0.0622855 |\n",
            "| train_maskable_ppo_a70f7_00008   PENDING        0.00102495     0.09487   |\n",
            "| train_maskable_ppo_a70f7_00009   PENDING        1.06852e-05    0.0845967 |\n",
            "| train_maskable_ppo_a70f7_00010   PENDING        2.96259e-05    0.0728003 |\n",
            "| train_maskable_ppo_a70f7_00011   PENDING        9.64525e-05    0.0544582 |\n",
            "| train_maskable_ppo_a70f7_00012   PENDING        0.000276356    0.17712   |\n",
            "| train_maskable_ppo_a70f7_00013   PENDING        0.00155092     0.173628  |\n",
            "| train_maskable_ppo_a70f7_00014   PENDING        2.47885e-05    0.1824    |\n",
            "| train_maskable_ppo_a70f7_00015   PENDING        7.80625e-05    0.198902  |\n",
            "+--------------------------------------------------------------------------+\n",
            "Trial status: 16 PENDING\n",
            "Current time: 2023-12-15 12:16:36. Total running time: 1min 0s\n",
            "Logical resource usage: 0/2 CPUs, 0/0 GPUs\n",
            "+--------------------------------------------------------------------------+\n",
            "| Trial name                       status       learning_rate     ent_coef |\n",
            "+--------------------------------------------------------------------------+\n",
            "| train_maskable_ppo_a70f7_00000   PENDING        2.54504e-05    0.153055  |\n",
            "| train_maskable_ppo_a70f7_00001   PENDING        0.00012366     0.008491  |\n",
            "| train_maskable_ppo_a70f7_00002   PENDING        0.00134455     0.19954   |\n",
            "| train_maskable_ppo_a70f7_00003   PENDING        0.0049305      0.149473  |\n",
            "| train_maskable_ppo_a70f7_00004   PENDING        0.00230209     0.03906   |\n",
            "| train_maskable_ppo_a70f7_00005   PENDING        0.000750746    0.0322801 |\n",
            "| train_maskable_ppo_a70f7_00006   PENDING        0.00093633     0.107048  |\n",
            "| train_maskable_ppo_a70f7_00007   PENDING        0.00237252     0.0622855 |\n",
            "| train_maskable_ppo_a70f7_00008   PENDING        0.00102495     0.09487   |\n",
            "| train_maskable_ppo_a70f7_00009   PENDING        1.06852e-05    0.0845967 |\n",
            "| train_maskable_ppo_a70f7_00010   PENDING        2.96259e-05    0.0728003 |\n",
            "| train_maskable_ppo_a70f7_00011   PENDING        9.64525e-05    0.0544582 |\n",
            "| train_maskable_ppo_a70f7_00012   PENDING        0.000276356    0.17712   |\n",
            "| train_maskable_ppo_a70f7_00013   PENDING        0.00155092     0.173628  |\n",
            "| train_maskable_ppo_a70f7_00014   PENDING        2.47885e-05    0.1824    |\n",
            "| train_maskable_ppo_a70f7_00015   PENDING        7.80625e-05    0.198902  |\n",
            "+--------------------------------------------------------------------------+\n"
          ]
        }
      ]
    },
    {
      "cell_type": "code",
      "source": [],
      "metadata": {
        "id": "i6tN5oOUQ1L1"
      },
      "execution_count": null,
      "outputs": []
    }
  ]
}