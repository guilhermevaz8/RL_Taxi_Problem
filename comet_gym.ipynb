{
  "cells": [
    {
      "cell_type": "markdown",
      "metadata": {
        "id": "view-in-github",
        "colab_type": "text"
      },
      "source": [
        "<a href=\"https://colab.research.google.com/github/guilhermevaz8/RL_Taxi_Problem/blob/main/comet_gym.ipynb\" target=\"_parent\"><img src=\"https://colab.research.google.com/assets/colab-badge.svg\" alt=\"Open In Colab\"/></a>"
      ]
    },
    {
      "cell_type": "markdown",
      "metadata": {
        "id": "P8EZh1CJd4sS"
      },
      "source": [
        "<img src=\"https://cdn.comet.ml/img/notebook_logo.png\">  <img height=90px align=\"right\" src=\"https://raw.githubusercontent.com/Farama-Foundation/Gymnasium/main/gymnasium-text.png\">\n",
        "\n",
        "[Comet](https://www.comet.com/?utm_source=gymnasium&utm_medium=partner&utm_campaign=partner_gymnasium_2023&utm_content=comet_colab) helps accelerate machine learning through experiment tracking and production monitoring. Never lose track of your work and easily share results and collaborate across teams of all sizes.\n",
        "\n",
        "**This notebook shows you how to log your Gymnasium metrics with Comet.** For more information about Comet's integration with Gymnasium, visit our [Docs](https://www.comet.com/docs/v2/integrations/ml-frameworks/gymnasium/?utm_source=gymnasium&utm_medium=partner&utm_campaign=partner_gymnasium_2023&utm_content=comet_colab) page.\n",
        "\n",
        "If you prefer to preview what's to come, check out completed experiments created from this notebook [here](https://www.comet.com/examples/comet-examples-gymnasium-notebook/?utm_source=gymnasium&utm_medium=partner&utm_campaign=partner_gymnasium_2023&utm_content=comet_colab).\n",
        "\n"
      ]
    },
    {
      "cell_type": "markdown",
      "metadata": {
        "id": "aAHdYTSjYofy"
      },
      "source": [
        "# Install Required Packages"
      ]
    },
    {
      "cell_type": "code",
      "execution_count": null,
      "metadata": {
        "id": "Z-z0jRNUY0gp"
      },
      "outputs": [],
      "source": [
        "%pip install gymnasium comet_ml stable-baselines3"
      ]
    },
    {
      "cell_type": "markdown",
      "metadata": {
        "id": "cDi2frwiY6UA"
      },
      "source": [
        "# Initialize Comet\n",
        "\n",
        "Create your free account at [Comet.com](https://www.comet.com/signup?utm_source=gymnasium&utm_medium=partner&utm_campaign=partner_gymnasium_2023&utm_content=comet_colab) and grab your API key which can be found under account settings."
      ]
    },
    {
      "cell_type": "code",
      "execution_count": null,
      "metadata": {
        "id": "j9P00TNqmEXG"
      },
      "outputs": [],
      "source": [
        "import comet_ml\n",
        "\n",
        "comet_ml.init(project_name=\"comet-examples-gymnasium-notebook\")"
      ]
    },
    {
      "cell_type": "markdown",
      "metadata": {
        "id": "031ezY2Dr2n4"
      },
      "source": [
        "# Train an Agent using StableBaselines3 A2C Algorithm"
      ]
    },
    {
      "cell_type": "code",
      "execution_count": null,
      "metadata": {
        "id": "P3uQi6W_sNF8",
        "colab": {
          "base_uri": "https://localhost:8080/",
          "height": 485,
          "referenced_widgets": [
            "1c073fb2f66f426e8c7637c8f788327b",
            "1561ede903dd4bf3b8d4d425155fa2e3"
          ]
        },
        "outputId": "90bf2a79-5999-49f3-e23c-5f8b62ded906"
      },
      "outputs": [
        {
          "output_type": "stream",
          "name": "stderr",
          "text": [
            "\u001b[1;38;5;214mCOMET WARNING:\u001b[0m As you are running in a Jupyter environment, you will need to call `experiment.end()` when finished to ensure all metrics and code are logged before exiting.\n",
            "\u001b[1;38;5;39mCOMET INFO:\u001b[0m Couldn't find a Git repository in '/content' nor in any parent directory. Set `COMET_GIT_DIRECTORY` if your Git Repository is elsewhere.\n",
            "\u001b[1;38;5;39mCOMET INFO:\u001b[0m Experiment is live on comet.com https://www.comet.com/campiao/comet-examples-gymnasium-notebook/a3f54980dfec47da9301df61ee1230da\n",
            "\n"
          ]
        },
        {
          "output_type": "display_data",
          "data": {
            "text/plain": [
              "Output()"
            ],
            "application/vnd.jupyter.widget-view+json": {
              "version_major": 2,
              "version_minor": 0,
              "model_id": "1c073fb2f66f426e8c7637c8f788327b"
            }
          },
          "metadata": {}
        },
        {
          "output_type": "display_data",
          "data": {
            "text/plain": [],
            "text/html": [
              "<pre style=\"white-space:pre;overflow-x:auto;line-height:normal;font-family:Menlo,'DejaVu Sans Mono',consolas,'Courier New',monospace\"></pre>\n"
            ]
          },
          "metadata": {}
        },
        {
          "output_type": "display_data",
          "data": {
            "text/plain": [
              "\n"
            ],
            "text/html": [
              "<pre style=\"white-space:pre;overflow-x:auto;line-height:normal;font-family:Menlo,'DejaVu Sans Mono',consolas,'Courier New',monospace\">\n",
              "</pre>\n"
            ]
          },
          "metadata": {}
        },
        {
          "output_type": "stream",
          "name": "stderr",
          "text": [
            "\u001b[1;38;5;39mCOMET INFO:\u001b[0m ---------------------------------------------------------------------------------------\n",
            "\u001b[1;38;5;39mCOMET INFO:\u001b[0m Comet.ml Experiment Summary\n",
            "\u001b[1;38;5;39mCOMET INFO:\u001b[0m ---------------------------------------------------------------------------------------\n",
            "\u001b[1;38;5;39mCOMET INFO:\u001b[0m   Data:\n",
            "\u001b[1;38;5;39mCOMET INFO:\u001b[0m     display_summary_level : 1\n",
            "\u001b[1;38;5;39mCOMET INFO:\u001b[0m     url                   : https://www.comet.com/campiao/comet-examples-gymnasium-notebook/a3f54980dfec47da9301df61ee1230da\n",
            "\u001b[1;38;5;39mCOMET INFO:\u001b[0m   Metrics [count] (min, max):\n",
            "\u001b[1;38;5;39mCOMET INFO:\u001b[0m     episode_length [1047] : (8, 500)\n",
            "\u001b[1;38;5;39mCOMET INFO:\u001b[0m     episode_reward [1047] : (8.0, 500.0)\n",
            "\u001b[1;38;5;39mCOMET INFO:\u001b[0m     loss [2003]           : (-0.22058627009391785, 3775.198486328125)\n",
            "\u001b[1;38;5;39mCOMET INFO:\u001b[0m   Uploads:\n",
            "\u001b[1;38;5;39mCOMET INFO:\u001b[0m     environment details : 1\n",
            "\u001b[1;38;5;39mCOMET INFO:\u001b[0m     filename            : 1\n",
            "\u001b[1;38;5;39mCOMET INFO:\u001b[0m     installed packages  : 1\n",
            "\u001b[1;38;5;39mCOMET INFO:\u001b[0m     model graph         : 1\n",
            "\u001b[1;38;5;39mCOMET INFO:\u001b[0m     notebook            : 2\n",
            "\u001b[1;38;5;39mCOMET INFO:\u001b[0m     os packages         : 1\n",
            "\u001b[1;38;5;39mCOMET INFO:\u001b[0m     source_code         : 1\n",
            "\u001b[1;38;5;39mCOMET INFO:\u001b[0m \n",
            "\u001b[1;38;5;39mCOMET INFO:\u001b[0m Please wait for metadata to finish uploading (timeout is 3600 seconds)\n",
            "\u001b[1;38;5;39mCOMET INFO:\u001b[0m Uploading 16815 metrics, params and output messages\n",
            "\u001b[1;38;5;39mCOMET INFO:\u001b[0m Uploading 5278 metrics, params and output messages\n"
          ]
        }
      ],
      "source": [
        "from comet_ml.integration.gymnasium import CometLogger\n",
        "from stable_baselines3 import A2C\n",
        "from stable_baselines3.common.env_util import make_vec_env\n",
        "import gymnasium as gym\n",
        "\n",
        "env = gym.make('CartPole-v1', render_mode=\"rgb_array\")\n",
        "#env = make_vec_env(\"Taxi-v3\", n_envs=4, seed=0)\n",
        "\n",
        "# Uncomment if you want to Upload Videos of your environment to Comet\n",
        "#env = gym.wrappers.RecordVideo(env, 'test')\n",
        "\n",
        "experiment = comet_ml.Experiment()\n",
        "\n",
        "env = CometLogger(env, experiment)\n",
        "\n",
        "model = A2C(\"MlpPolicy\", env, verbose=0)\n",
        "model.learn(total_timesteps=100000, progress_bar=True)\n",
        "\n",
        "env.close()\n",
        "experiment.end()"
      ]
    },
    {
      "cell_type": "markdown",
      "metadata": {
        "id": "7-1XGral4yl_"
      },
      "source": [
        "# Train an Agent using StableBaselines3 PPO Algorithm"
      ]
    },
    {
      "cell_type": "code",
      "execution_count": null,
      "metadata": {
        "colab": {
          "base_uri": "https://localhost:8080/",
          "height": 1000
        },
        "id": "gJRutvZm4ymA",
        "outputId": "c5bd1fd8-bf12-471c-b4f2-e8a1ddf4dea8"
      },
      "outputs": [
        {
          "output_type": "stream",
          "name": "stderr",
          "text": [
            "/usr/local/lib/python3.10/dist-packages/gymnasium/wrappers/record_video.py:94: UserWarning: \u001b[33mWARN: Overwriting existing videos at /content/test folder (try specifying a different `video_folder` for the `RecordVideo` wrapper if this is not desired)\u001b[0m\n",
            "  logger.warn(\n",
            "\u001b[1;38;5;39mCOMET INFO:\u001b[0m ---------------------------------------------------------------------------------------\n",
            "\u001b[1;38;5;39mCOMET INFO:\u001b[0m Comet.ml Experiment Summary\n",
            "\u001b[1;38;5;39mCOMET INFO:\u001b[0m ---------------------------------------------------------------------------------------\n",
            "\u001b[1;38;5;39mCOMET INFO:\u001b[0m   Data:\n",
            "\u001b[1;38;5;39mCOMET INFO:\u001b[0m     display_summary_level : 1\n",
            "\u001b[1;38;5;39mCOMET INFO:\u001b[0m     url                   : https://www.comet.com/campiao/comet-examples-gymnasium-notebook/cf8d3b74f2b34a04a980e04d0c4310df\n",
            "\u001b[1;38;5;39mCOMET INFO:\u001b[0m   Others:\n",
            "\u001b[1;38;5;39mCOMET INFO:\u001b[0m     Created from : gymnasium\n",
            "\u001b[1;38;5;39mCOMET INFO:\u001b[0m   Uploads:\n",
            "\u001b[1;38;5;214mCOMET WARNING:\u001b[0m As you are running in a Jupyter environment, you will need to call `experiment.end()` when finished to ensure all metrics and code are logged before exiting.\n",
            "\u001b[1;38;5;39mCOMET INFO:\u001b[0m Couldn't find a Git repository in '/content' nor in any parent directory. Set `COMET_GIT_DIRECTORY` if your Git Repository is elsewhere.\n",
            "\u001b[1;38;5;39mCOMET INFO:\u001b[0m Experiment is live on comet.com https://www.comet.com/campiao/comet-examples-gymnasium-notebook/9587977b7b9d4b468447101c71167bab\n",
            "\n"
          ]
        },
        {
          "output_type": "stream",
          "name": "stdout",
          "text": [
            "Moviepy - Building video /content/test/rl-video-episode-0.mp4.\n",
            "Moviepy - Writing video /content/test/rl-video-episode-0.mp4\n",
            "\n"
          ]
        },
        {
          "output_type": "stream",
          "name": "stderr",
          "text": [
            "\n",
            "\n",
            "t:   0%|          | 0/34 [00:00<?, ?it/s, now=None]\u001b[A\u001b[A\n",
            "\n",
            "t:   9%|▉         | 3/34 [00:00<00:01, 26.16it/s, now=None]\u001b[A\u001b[A\n",
            "\n",
            "t:  85%|████████▌ | 29/34 [00:00<00:00, 154.88it/s, now=None]\u001b[A\u001b[A\n",
            "\n",
            "                                                             "
          ]
        },
        {
          "output_type": "stream",
          "name": "stdout",
          "text": [
            "Moviepy - Done !\n",
            "Moviepy - video ready /content/test/rl-video-episode-0.mp4\n",
            "Moviepy - Building video /content/test/rl-video-episode-1.mp4.\n",
            "Moviepy - Writing video /content/test/rl-video-episode-1.mp4\n",
            "\n"
          ]
        },
        {
          "output_type": "stream",
          "name": "stderr",
          "text": [
            "\n",
            "\n",
            "t:   0%|          | 0/26 [00:00<?, ?it/s, now=None]\u001b[A\u001b[A\n",
            "\n",
            "                                                   \u001b[A\u001b[A"
          ]
        },
        {
          "output_type": "stream",
          "name": "stdout",
          "text": [
            "Moviepy - Done !\n",
            "Moviepy - video ready /content/test/rl-video-episode-1.mp4\n",
            "Moviepy - Building video /content/test/rl-video-episode-8.mp4.\n",
            "Moviepy - Writing video /content/test/rl-video-episode-8.mp4\n",
            "\n"
          ]
        },
        {
          "output_type": "stream",
          "name": "stderr",
          "text": [
            "\n",
            "\n",
            "t:   0%|          | 0/20 [00:00<?, ?it/s, now=None]\u001b[A\u001b[A\n",
            "\n",
            "                                                   \u001b[A\u001b[A"
          ]
        },
        {
          "output_type": "stream",
          "name": "stdout",
          "text": [
            "Moviepy - Done !\n",
            "Moviepy - video ready /content/test/rl-video-episode-8.mp4\n",
            "Moviepy - Building video /content/test/rl-video-episode-27.mp4.\n",
            "Moviepy - Writing video /content/test/rl-video-episode-27.mp4\n",
            "\n"
          ]
        },
        {
          "output_type": "stream",
          "name": "stderr",
          "text": [
            "\n",
            "\n",
            "t:   0%|          | 0/13 [00:00<?, ?it/s, now=None]\u001b[A\u001b[A\n",
            "\n",
            "                                                   \u001b[A\u001b[A"
          ]
        },
        {
          "output_type": "stream",
          "name": "stdout",
          "text": [
            "Moviepy - Done !\n",
            "Moviepy - video ready /content/test/rl-video-episode-27.mp4\n"
          ]
        },
        {
          "output_type": "stream",
          "name": "stderr",
          "text": [
            "\n",
            "\n",
            "                                                   \u001b[A\u001b[A"
          ]
        },
        {
          "output_type": "stream",
          "name": "stdout",
          "text": [
            "Moviepy - Done !\n",
            "Moviepy - video ready /content/test/rl-video-episode-64.mp4\n"
          ]
        },
        {
          "output_type": "stream",
          "name": "stderr",
          "text": [
            "\rt:   0%|          | 0/14 [00:00<?, ?it/s, now=None]\u001b[A\u001b[A\n",
            "\n",
            "                                                   \u001b[A\u001b[A"
          ]
        },
        {
          "output_type": "stream",
          "name": "stdout",
          "text": [
            "Moviepy - Done !\n",
            "Moviepy - video ready /content/test/rl-video-episode-125.mp4\n",
            "Moviepy - Building video /content/test/rl-video-episode-216.mp4.\n",
            "Moviepy - Writing video /content/test/rl-video-episode-216.mp4\n",
            "\n"
          ]
        },
        {
          "output_type": "stream",
          "name": "stderr",
          "text": [
            "\n",
            "\n",
            "t:   0%|          | 0/62 [00:00<?, ?it/s, now=None]\n",
            "\n",
            "t:  48%|████▊     | 30/62 [00:00<00:00, 299.65it/s, now=None]\u001b[A\u001b[A\n",
            "\n",
            "t:  97%|█████████▋| 60/62 [00:00<00:00, 190.83it/s, now=None]\u001b[A\u001b[A\n",
            "\n",
            "                                                             \u001b[A\u001b[A"
          ]
        },
        {
          "output_type": "stream",
          "name": "stdout",
          "text": [
            "Moviepy - Done !\n",
            "Moviepy - video ready /content/test/rl-video-episode-216.mp4\n",
            "Moviepy - Building video /content/test/rl-video-episode-343.mp4.\n",
            "Moviepy - Writing video /content/test/rl-video-episode-343.mp4\n",
            "\n"
          ]
        },
        {
          "output_type": "stream",
          "name": "stderr",
          "text": [
            "\n",
            "\n",
            "t:   0%|          | 0/501 [00:00<?, ?it/s, now=None]\u001b[A\u001b[A\u001b[A\u001b[A\n",
            "\n",
            "t:  11%|█         | 54/501 [00:00<00:02, 191.68it/s, now=None]\u001b[A\u001b[A\n",
            "\n",
            "t:  15%|█▍        | 75/501 [00:00<00:02, 180.25it/s, now=None]\u001b[A\u001b[A\n",
            "\n",
            "t:  19%|█▉        | 94/501 [00:00<00:02, 168.92it/s, now=None]\u001b[A\u001b[A\u001b[A\u001b[A\n",
            "\n",
            "t:  27%|██▋       | 136/501 [00:00<00:01, 188.01it/s, now=None]\u001b[A\u001b[A\n",
            "\n",
            "t:  31%|███       | 156/501 [00:00<00:01, 188.97it/s, now=None]\u001b[A\u001b[A\n",
            "\n",
            "t:  39%|███▉      | 197/501 [00:01<00:01, 194.25it/s, now=None]\u001b[A\u001b[A\n",
            "\n",
            "t:  44%|████▍     | 220/501 [00:01<00:01, 204.33it/s, now=None]\u001b[A\u001b[A\n",
            "\n",
            "t:  48%|████▊     | 241/501 [00:01<00:01, 199.60it/s, now=None]\u001b[A\u001b[A\n",
            "\n",
            "t:  52%|█████▏    | 262/501 [00:01<00:01, 194.33it/s, now=None]\u001b[A\u001b[A\n",
            "\n",
            "t:  56%|█████▋    | 282/501 [00:01<00:01, 181.21it/s, now=None]\u001b[A\u001b[A\n",
            "\n",
            "t:  60%|██████    | 301/501 [00:01<00:01, 164.39it/s, now=None]\u001b[A\u001b[A\n",
            "\n",
            "t:  63%|██████▎   | 318/501 [00:01<00:01, 149.49it/s, now=None]\u001b[A\u001b[A\n",
            "\n",
            "t:  67%|██████▋   | 334/501 [00:01<00:01, 145.12it/s, now=None]\u001b[A\u001b[A\n",
            "\n",
            "t:  70%|██████▉   | 349/501 [00:02<00:01, 132.91it/s, now=None]\u001b[A\u001b[A\n",
            "\n",
            "t:  72%|███████▏  | 363/501 [00:02<00:01, 130.93it/s, now=None]\u001b[A\u001b[A\n",
            "\n",
            "t:  75%|███████▌  | 377/501 [00:02<00:01, 123.33it/s, now=None]\u001b[A\u001b[A\n",
            "\n",
            "t:  78%|███████▊  | 390/501 [00:02<00:00, 120.45it/s, now=None]\u001b[A\u001b[A\n",
            "\n",
            "t:  80%|████████  | 403/501 [00:02<00:00, 115.75it/s, now=None]\u001b[A\u001b[A\n",
            "\n",
            "t:  83%|████████▎ | 415/501 [00:02<00:00, 112.15it/s, now=None]\u001b[A\u001b[A\n",
            "\n",
            "t:  87%|████████▋ | 438/501 [00:02<00:00, 104.83it/s, now=None]\u001b[A\u001b[A\n",
            "\n",
            "t:  90%|█████████ | 452/501 [00:03<00:00, 103.28it/s, now=None]\u001b[A\u001b[A\n",
            "\n",
            "t:  95%|█████████▌| 477/501 [00:03<00:00, 111.70it/s, now=None]\u001b[A\u001b[A\n",
            "\n",
            "t:  98%|█████████▊| 489/501 [00:03<00:00, 110.32it/s, now=None]\u001b[A\u001b[A\n",
            "\n",
            "t: 100%|██████████| 501/501 [00:03<00:00, 110.02it/s, now=None]\u001b[A\u001b[A\n",
            "\n",
            "                                                               \u001b[A\u001b[A"
          ]
        },
        {
          "output_type": "stream",
          "name": "stdout",
          "text": [
            "Moviepy - Done !\n",
            "Moviepy - video ready /content/test/rl-video-episode-343.mp4\n"
          ]
        },
        {
          "output_type": "stream",
          "name": "stderr",
          "text": [
            "\u001b[1;38;5;214mCOMET WARNING:\u001b[0m The default value for the log_file_name parameter will change from False to True in a future version. Explicitly pass log_file_name=True or log_file_name=False to disable this warning\n",
            "\u001b[1;38;5;39mCOMET INFO:\u001b[0m ---------------------------------------------------------------------------------------\n",
            "\u001b[1;38;5;39mCOMET INFO:\u001b[0m Comet.ml Experiment Summary\n",
            "\u001b[1;38;5;39mCOMET INFO:\u001b[0m ---------------------------------------------------------------------------------------\n",
            "\u001b[1;38;5;39mCOMET INFO:\u001b[0m   Data:\n",
            "\u001b[1;38;5;39mCOMET INFO:\u001b[0m     display_summary_level : 1\n",
            "\u001b[1;38;5;39mCOMET INFO:\u001b[0m     url                   : https://www.comet.com/campiao/comet-examples-gymnasium-notebook/9587977b7b9d4b468447101c71167bab\n",
            "\u001b[1;38;5;39mCOMET INFO:\u001b[0m   Metrics [count] (min, max):\n",
            "\u001b[1;38;5;39mCOMET INFO:\u001b[0m     episode_length [475] : (10, 500)\n",
            "\u001b[1;38;5;39mCOMET INFO:\u001b[0m     episode_reward [475] : (10.0, 500.0)\n",
            "\u001b[1;38;5;39mCOMET INFO:\u001b[0m     loss [1568]          : (-0.0305530596524477, 69.24143981933594)\n",
            "\u001b[1;38;5;39mCOMET INFO:\u001b[0m   Uploads:\n",
            "\u001b[1;38;5;39mCOMET INFO:\u001b[0m     asset               : 16 (66.09 KB)\n",
            "\u001b[1;38;5;39mCOMET INFO:\u001b[0m     environment details : 1\n",
            "\u001b[1;38;5;39mCOMET INFO:\u001b[0m     filename            : 1\n",
            "\u001b[1;38;5;39mCOMET INFO:\u001b[0m     installed packages  : 1\n",
            "\u001b[1;38;5;39mCOMET INFO:\u001b[0m     notebook            : 2\n",
            "\u001b[1;38;5;39mCOMET INFO:\u001b[0m     os packages         : 1\n",
            "\u001b[1;38;5;39mCOMET INFO:\u001b[0m     source_code         : 1\n",
            "\u001b[1;38;5;39mCOMET INFO:\u001b[0m \n"
          ]
        }
      ],
      "source": [
        "from stable_baselines3 import PPO\n",
        "\n",
        "env = gym.make('CartPole-v1', render_mode=\"rgb_array\")\n",
        "\n",
        "# Uncomment if you want to Upload Videos of your environment to Comet\n",
        "env = gym.wrappers.RecordVideo(env, 'test')\n",
        "\n",
        "experiment = comet_ml.Experiment()\n",
        "\n",
        "env = CometLogger(env, experiment)\n",
        "\n",
        "model = PPO(\"MlpPolicy\", env, verbose=0)\n",
        "model.learn(total_timesteps=100000)\n",
        "\n",
        "env.close()\n",
        "experiment.end()"
      ]
    },
    {
      "cell_type": "markdown",
      "metadata": {
        "id": "Zwbd9LfT4ymB"
      },
      "source": [
        "# Use Comet's UI to Benchmark Different RL Algorithims"
      ]
    },
    {
      "cell_type": "code",
      "execution_count": null,
      "metadata": {
        "id": "B9FsSTLG4ymB"
      },
      "outputs": [],
      "source": [
        "experiment.display()"
      ]
    }
  ],
  "metadata": {
    "colab": {
      "provenance": [],
      "include_colab_link": true
    },
    "kernelspec": {
      "display_name": "Python 3 (ipykernel)",
      "language": "python",
      "name": "python3"
    },
    "language_info": {
      "codemirror_mode": {
        "name": "ipython",
        "version": 3
      },
      "file_extension": ".py",
      "mimetype": "text/x-python",
      "name": "python",
      "nbconvert_exporter": "python",
      "pygments_lexer": "ipython3",
      "version": "3.10.12"
    },
    "vscode": {
      "interpreter": {
        "hash": "8c9587381b2341d562742e36a89690be32a732b11830813473890249dd40a07d"
      }
    },
    "widgets": {
      "application/vnd.jupyter.widget-state+json": {
        "1c073fb2f66f426e8c7637c8f788327b": {
          "model_module": "@jupyter-widgets/output",
          "model_name": "OutputModel",
          "model_module_version": "1.0.0",
          "state": {
            "_dom_classes": [],
            "_model_module": "@jupyter-widgets/output",
            "_model_module_version": "1.0.0",
            "_model_name": "OutputModel",
            "_view_count": null,
            "_view_module": "@jupyter-widgets/output",
            "_view_module_version": "1.0.0",
            "_view_name": "OutputView",
            "layout": "IPY_MODEL_1561ede903dd4bf3b8d4d425155fa2e3",
            "msg_id": "",
            "outputs": [
              {
                "output_type": "display_data",
                "data": {
                  "text/plain": "\u001b[35m 100%\u001b[0m \u001b[38;2;249;38;114m━━━━━━━━━━━━━━━━━━━━━━━━━━━━━━━━━━━━━━━━━━━━━━━━━━━━━━━━━━━\u001b[0m\u001b[38;2;249;38;114m╸\u001b[0m \u001b[32m99,921/100,000 \u001b[0m [ \u001b[33m0:04:00\u001b[0m < \u001b[36m0:00:01\u001b[0m , \u001b[31m428 it/s\u001b[0m ]\n",
                  "text/html": "<pre style=\"white-space:pre;overflow-x:auto;line-height:normal;font-family:Menlo,'DejaVu Sans Mono',consolas,'Courier New',monospace\"><span style=\"color: #800080; text-decoration-color: #800080\"> 100%</span> <span style=\"color: #f92672; text-decoration-color: #f92672\">━━━━━━━━━━━━━━━━━━━━━━━━━━━━━━━━━━━━━━━━━━━━━━━━━━━━━━━━━━━╸</span> <span style=\"color: #008000; text-decoration-color: #008000\">99,921/100,000 </span> [ <span style=\"color: #808000; text-decoration-color: #808000\">0:04:00</span> &lt; <span style=\"color: #008080; text-decoration-color: #008080\">0:00:01</span> , <span style=\"color: #800000; text-decoration-color: #800000\">428 it/s</span> ]\n</pre>\n"
                },
                "metadata": {}
              }
            ]
          }
        },
        "1561ede903dd4bf3b8d4d425155fa2e3": {
          "model_module": "@jupyter-widgets/base",
          "model_name": "LayoutModel",
          "model_module_version": "1.2.0",
          "state": {
            "_model_module": "@jupyter-widgets/base",
            "_model_module_version": "1.2.0",
            "_model_name": "LayoutModel",
            "_view_count": null,
            "_view_module": "@jupyter-widgets/base",
            "_view_module_version": "1.2.0",
            "_view_name": "LayoutView",
            "align_content": null,
            "align_items": null,
            "align_self": null,
            "border": null,
            "bottom": null,
            "display": null,
            "flex": null,
            "flex_flow": null,
            "grid_area": null,
            "grid_auto_columns": null,
            "grid_auto_flow": null,
            "grid_auto_rows": null,
            "grid_column": null,
            "grid_gap": null,
            "grid_row": null,
            "grid_template_areas": null,
            "grid_template_columns": null,
            "grid_template_rows": null,
            "height": null,
            "justify_content": null,
            "justify_items": null,
            "left": null,
            "margin": null,
            "max_height": null,
            "max_width": null,
            "min_height": null,
            "min_width": null,
            "object_fit": null,
            "object_position": null,
            "order": null,
            "overflow": null,
            "overflow_x": null,
            "overflow_y": null,
            "padding": null,
            "right": null,
            "top": null,
            "visibility": null,
            "width": null
          }
        }
      }
    }
  },
  "nbformat": 4,
  "nbformat_minor": 0
}