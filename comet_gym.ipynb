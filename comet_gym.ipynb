{
  "cells": [
    {
      "cell_type": "markdown",
      "metadata": {
        "id": "view-in-github",
        "colab_type": "text"
      },
      "source": [
        "<a href=\"https://colab.research.google.com/github/guilhermevaz8/RL_Taxi_Problem/blob/main/comet_gym.ipynb\" target=\"_parent\"><img src=\"https://colab.research.google.com/assets/colab-badge.svg\" alt=\"Open In Colab\"/></a>"
      ]
    },
    {
      "cell_type": "markdown",
      "metadata": {
        "id": "P8EZh1CJd4sS"
      },
      "source": [
        "<img src=\"https://cdn.comet.ml/img/notebook_logo.png\">  <img height=90px align=\"right\" src=\"https://raw.githubusercontent.com/Farama-Foundation/Gymnasium/main/gymnasium-text.png\">\n",
        "\n",
        "[Comet](https://www.comet.com/?utm_source=gymnasium&utm_medium=partner&utm_campaign=partner_gymnasium_2023&utm_content=comet_colab) helps accelerate machine learning through experiment tracking and production monitoring. Never lose track of your work and easily share results and collaborate across teams of all sizes.\n",
        "\n",
        "**This notebook shows you how to log your Gymnasium metrics with Comet.** For more information about Comet's integration with Gymnasium, visit our [Docs](https://www.comet.com/docs/v2/integrations/ml-frameworks/gymnasium/?utm_source=gymnasium&utm_medium=partner&utm_campaign=partner_gymnasium_2023&utm_content=comet_colab) page.\n",
        "\n",
        "If you prefer to preview what's to come, check out completed experiments created from this notebook [here](https://www.comet.com/examples/comet-examples-gymnasium-notebook/?utm_source=gymnasium&utm_medium=partner&utm_campaign=partner_gymnasium_2023&utm_content=comet_colab).\n",
        "\n"
      ]
    },
    {
      "cell_type": "markdown",
      "metadata": {
        "id": "aAHdYTSjYofy"
      },
      "source": [
        "# Install Required Packages"
      ]
    },
    {
      "cell_type": "code",
      "execution_count": 10,
      "metadata": {
        "id": "Z-z0jRNUY0gp",
        "colab": {
          "base_uri": "https://localhost:8080/"
        },
        "outputId": "aa15b309-9b48-48b6-95d4-03523711c832"
      },
      "outputs": [
        {
          "output_type": "stream",
          "name": "stderr",
          "text": [
            "/usr/local/lib/python3.10/dist-packages/ipykernel/ipkernel.py:283: DeprecationWarning: `should_run_async` will not call `transform_cell` automatically in the future. Please pass the result to `transformed_cell` argument and any exception that happen during thetransform in `preprocessing_exc_tuple` in IPython 7.17 and above.\n",
            "  and should_run_async(code)\n"
          ]
        },
        {
          "output_type": "stream",
          "name": "stdout",
          "text": [
            "Requirement already satisfied: gymnasium in /usr/local/lib/python3.10/dist-packages (0.29.1)\n",
            "Requirement already satisfied: comet_ml in /usr/local/lib/python3.10/dist-packages (3.35.4)\n",
            "Requirement already satisfied: stable-baselines3 in /usr/local/lib/python3.10/dist-packages (2.2.1)\n",
            "Collecting sb3_contrib\n",
            "  Downloading sb3_contrib-2.2.1-py3-none-any.whl (80 kB)\n",
            "\u001b[2K     \u001b[90m━━━━━━━━━━━━━━━━━━━━━━━━━━━━━━━━━━━━━━━━\u001b[0m \u001b[32m80.7/80.7 kB\u001b[0m \u001b[31m2.0 MB/s\u001b[0m eta \u001b[36m0:00:00\u001b[0m\n",
            "\u001b[?25hRequirement already satisfied: numpy>=1.21.0 in /usr/local/lib/python3.10/dist-packages (from gymnasium) (1.23.5)\n",
            "Requirement already satisfied: cloudpickle>=1.2.0 in /usr/local/lib/python3.10/dist-packages (from gymnasium) (2.2.1)\n",
            "Requirement already satisfied: typing-extensions>=4.3.0 in /usr/local/lib/python3.10/dist-packages (from gymnasium) (4.5.0)\n",
            "Requirement already satisfied: farama-notifications>=0.0.1 in /usr/local/lib/python3.10/dist-packages (from gymnasium) (0.0.4)\n",
            "Requirement already satisfied: jsonschema!=3.1.0,>=2.6.0 in /usr/local/lib/python3.10/dist-packages (from comet_ml) (4.19.2)\n",
            "Requirement already satisfied: psutil>=5.6.3 in /usr/local/lib/python3.10/dist-packages (from comet_ml) (5.9.5)\n",
            "Requirement already satisfied: python-box<7.0.0 in /usr/local/lib/python3.10/dist-packages (from comet_ml) (6.1.0)\n",
            "Requirement already satisfied: requests-toolbelt>=0.8.0 in /usr/local/lib/python3.10/dist-packages (from comet_ml) (1.0.0)\n",
            "Requirement already satisfied: requests>=2.18.4 in /usr/local/lib/python3.10/dist-packages (from comet_ml) (2.31.0)\n",
            "Requirement already satisfied: semantic-version>=2.8.0 in /usr/local/lib/python3.10/dist-packages (from comet_ml) (2.10.0)\n",
            "Requirement already satisfied: sentry-sdk>=1.1.0 in /usr/local/lib/python3.10/dist-packages (from comet_ml) (1.38.0)\n",
            "Requirement already satisfied: simplejson in /usr/local/lib/python3.10/dist-packages (from comet_ml) (3.19.2)\n",
            "Requirement already satisfied: six in /usr/local/lib/python3.10/dist-packages (from comet_ml) (1.16.0)\n",
            "Requirement already satisfied: urllib3>=1.21.1 in /usr/local/lib/python3.10/dist-packages (from comet_ml) (2.0.7)\n",
            "Requirement already satisfied: websocket-client<1.4.0,>=0.55.0 in /usr/local/lib/python3.10/dist-packages (from comet_ml) (1.3.3)\n",
            "Requirement already satisfied: wrapt>=1.11.2 in /usr/local/lib/python3.10/dist-packages (from comet_ml) (1.14.1)\n",
            "Requirement already satisfied: wurlitzer>=1.0.2 in /usr/local/lib/python3.10/dist-packages (from comet_ml) (3.0.3)\n",
            "Requirement already satisfied: everett[ini]<3.2.0,>=1.0.1 in /usr/local/lib/python3.10/dist-packages (from comet_ml) (3.1.0)\n",
            "Requirement already satisfied: dulwich!=0.20.33,>=0.20.6 in /usr/local/lib/python3.10/dist-packages (from comet_ml) (0.21.7)\n",
            "Requirement already satisfied: rich>=13.3.2 in /usr/local/lib/python3.10/dist-packages (from comet_ml) (13.7.0)\n",
            "Requirement already satisfied: torch>=1.13 in /usr/local/lib/python3.10/dist-packages (from stable-baselines3) (2.1.0+cu118)\n",
            "Requirement already satisfied: pandas in /usr/local/lib/python3.10/dist-packages (from stable-baselines3) (1.5.3)\n",
            "Requirement already satisfied: matplotlib in /usr/local/lib/python3.10/dist-packages (from stable-baselines3) (3.7.1)\n",
            "Requirement already satisfied: configobj in /usr/local/lib/python3.10/dist-packages (from everett[ini]<3.2.0,>=1.0.1->comet_ml) (5.0.8)\n",
            "Requirement already satisfied: attrs>=22.2.0 in /usr/local/lib/python3.10/dist-packages (from jsonschema!=3.1.0,>=2.6.0->comet_ml) (23.1.0)\n",
            "Requirement already satisfied: jsonschema-specifications>=2023.03.6 in /usr/local/lib/python3.10/dist-packages (from jsonschema!=3.1.0,>=2.6.0->comet_ml) (2023.11.2)\n",
            "Requirement already satisfied: referencing>=0.28.4 in /usr/local/lib/python3.10/dist-packages (from jsonschema!=3.1.0,>=2.6.0->comet_ml) (0.31.1)\n",
            "Requirement already satisfied: rpds-py>=0.7.1 in /usr/local/lib/python3.10/dist-packages (from jsonschema!=3.1.0,>=2.6.0->comet_ml) (0.13.2)\n",
            "Requirement already satisfied: charset-normalizer<4,>=2 in /usr/local/lib/python3.10/dist-packages (from requests>=2.18.4->comet_ml) (3.3.2)\n",
            "Requirement already satisfied: idna<4,>=2.5 in /usr/local/lib/python3.10/dist-packages (from requests>=2.18.4->comet_ml) (3.6)\n",
            "Requirement already satisfied: certifi>=2017.4.17 in /usr/local/lib/python3.10/dist-packages (from requests>=2.18.4->comet_ml) (2023.11.17)\n",
            "Requirement already satisfied: markdown-it-py>=2.2.0 in /usr/local/lib/python3.10/dist-packages (from rich>=13.3.2->comet_ml) (3.0.0)\n",
            "Requirement already satisfied: pygments<3.0.0,>=2.13.0 in /usr/local/lib/python3.10/dist-packages (from rich>=13.3.2->comet_ml) (2.16.1)\n",
            "Requirement already satisfied: filelock in /usr/local/lib/python3.10/dist-packages (from torch>=1.13->stable-baselines3) (3.13.1)\n",
            "Requirement already satisfied: sympy in /usr/local/lib/python3.10/dist-packages (from torch>=1.13->stable-baselines3) (1.12)\n",
            "Requirement already satisfied: networkx in /usr/local/lib/python3.10/dist-packages (from torch>=1.13->stable-baselines3) (3.2.1)\n",
            "Requirement already satisfied: jinja2 in /usr/local/lib/python3.10/dist-packages (from torch>=1.13->stable-baselines3) (3.1.2)\n",
            "Requirement already satisfied: fsspec in /usr/local/lib/python3.10/dist-packages (from torch>=1.13->stable-baselines3) (2023.6.0)\n",
            "Requirement already satisfied: triton==2.1.0 in /usr/local/lib/python3.10/dist-packages (from torch>=1.13->stable-baselines3) (2.1.0)\n",
            "Requirement already satisfied: contourpy>=1.0.1 in /usr/local/lib/python3.10/dist-packages (from matplotlib->stable-baselines3) (1.2.0)\n",
            "Requirement already satisfied: cycler>=0.10 in /usr/local/lib/python3.10/dist-packages (from matplotlib->stable-baselines3) (0.12.1)\n",
            "Requirement already satisfied: fonttools>=4.22.0 in /usr/local/lib/python3.10/dist-packages (from matplotlib->stable-baselines3) (4.46.0)\n",
            "Requirement already satisfied: kiwisolver>=1.0.1 in /usr/local/lib/python3.10/dist-packages (from matplotlib->stable-baselines3) (1.4.5)\n",
            "Requirement already satisfied: packaging>=20.0 in /usr/local/lib/python3.10/dist-packages (from matplotlib->stable-baselines3) (23.2)\n",
            "Requirement already satisfied: pillow>=6.2.0 in /usr/local/lib/python3.10/dist-packages (from matplotlib->stable-baselines3) (9.4.0)\n",
            "Requirement already satisfied: pyparsing>=2.3.1 in /usr/local/lib/python3.10/dist-packages (from matplotlib->stable-baselines3) (3.1.1)\n",
            "Requirement already satisfied: python-dateutil>=2.7 in /usr/local/lib/python3.10/dist-packages (from matplotlib->stable-baselines3) (2.8.2)\n",
            "Requirement already satisfied: pytz>=2020.1 in /usr/local/lib/python3.10/dist-packages (from pandas->stable-baselines3) (2023.3.post1)\n",
            "Requirement already satisfied: mdurl~=0.1 in /usr/local/lib/python3.10/dist-packages (from markdown-it-py>=2.2.0->rich>=13.3.2->comet_ml) (0.1.2)\n",
            "Requirement already satisfied: MarkupSafe>=2.0 in /usr/local/lib/python3.10/dist-packages (from jinja2->torch>=1.13->stable-baselines3) (2.1.3)\n",
            "Requirement already satisfied: mpmath>=0.19 in /usr/local/lib/python3.10/dist-packages (from sympy->torch>=1.13->stable-baselines3) (1.3.0)\n",
            "Installing collected packages: sb3_contrib\n",
            "Successfully installed sb3_contrib-2.2.1\n"
          ]
        }
      ],
      "source": [
        "%pip install gymnasium comet_ml stable-baselines3 sb3_contrib"
      ]
    },
    {
      "cell_type": "markdown",
      "metadata": {
        "id": "cDi2frwiY6UA"
      },
      "source": [
        "# Initialize Comet\n",
        "\n",
        "Create your free account at [Comet.com](https://www.comet.com/signup?utm_source=gymnasium&utm_medium=partner&utm_campaign=partner_gymnasium_2023&utm_content=comet_colab) and grab your API key which can be found under account settings."
      ]
    },
    {
      "cell_type": "code",
      "execution_count": null,
      "metadata": {
        "id": "j9P00TNqmEXG"
      },
      "outputs": [],
      "source": [
        "import comet_ml\n",
        "\n",
        "comet_ml.init(project_name=\"comet-examples-gymnasium-notebook\")"
      ]
    },
    {
      "cell_type": "markdown",
      "metadata": {
        "id": "031ezY2Dr2n4"
      },
      "source": [
        "# Train an Agent using StableBaselines3 A2C Algorithm"
      ]
    },
    {
      "cell_type": "code",
      "source": [
        "from contextlib import closing\n",
        "from io import StringIO\n",
        "from os import path\n",
        "from typing import Optional\n",
        "\n",
        "import numpy as np\n",
        "\n",
        "import gymnasium as gym\n",
        "from gymnasium import Env, spaces, utils\n",
        "from gymnasium.envs.toy_text.utils import categorical_sample\n",
        "from gymnasium.error import DependencyNotInstalled\n",
        "\n",
        "\n",
        "MAP = [\n",
        "    \"+---------+\",\n",
        "    \"|R: | : :G|\",\n",
        "    \"| : | : : |\",\n",
        "    \"| : : : : |\",\n",
        "    \"| | : | : |\",\n",
        "    \"|Y| : |B: |\",\n",
        "    \"+---------+\",\n",
        "]\n",
        "WINDOW_SIZE = (550, 350)\n",
        "\n",
        "\n",
        "class TaxiEnvMod(Env):\n",
        "    \"\"\"\n",
        "    The Taxi Problem involves navigating to passengers in a grid world, picking them up and dropping them\n",
        "    off at one of four locations.\n",
        "\n",
        "    ## Description\n",
        "    There are four designated pick-up and drop-off locations (Red, Green, Yellow and Blue) in the\n",
        "    5x5 grid world. The taxi starts off at a random square and the passenger at one of the\n",
        "    designated locations.\n",
        "\n",
        "    The goal is move the taxi to the passenger's location, pick up the passenger,\n",
        "    move to the passenger's desired destination, and\n",
        "    drop off the passenger. Once the passenger is dropped off, the episode ends.\n",
        "\n",
        "    The player receives positive rewards for successfully dropping-off the passenger at the correct\n",
        "    location. Negative rewards for incorrect attempts to pick-up/drop-off passenger and\n",
        "    for each step where another reward is not received.\n",
        "\n",
        "    Map:\n",
        "\n",
        "            +---------+\n",
        "            |R: | : :G|\n",
        "            | : | : : |\n",
        "            | : : : : |\n",
        "            | | : | : |\n",
        "            |Y| : |B: |\n",
        "            +---------+\n",
        "\n",
        "    From \"Hierarchical Reinforcement Learning with the MAXQ Value Function Decomposition\"\n",
        "    by Tom Dietterich [<a href=\"#taxi_ref\">1</a>].\n",
        "\n",
        "    ## Action Space\n",
        "    The action shape is `(1,)` in the range `{0, 5}` indicating\n",
        "    which direction to move the taxi or to pickup/drop off passengers.\n",
        "\n",
        "    - 0: Move south (down)\n",
        "    - 1: Move north (up)\n",
        "    - 2: Move east (right)\n",
        "    - 3: Move west (left)\n",
        "    - 4: Pickup passenger\n",
        "    - 5: Drop off passenger\n",
        "\n",
        "    ## Observation Space\n",
        "    There are 500 discrete states since there are 25 taxi positions, 5 possible\n",
        "    locations of the passenger (including the case when the passenger is in the\n",
        "    taxi), and 4 destination locations.\n",
        "\n",
        "    Destination on the map are represented with the first letter of the color.\n",
        "\n",
        "    Passenger locations:\n",
        "    - 0: Red\n",
        "    - 1: Green\n",
        "    - 2: Yellow\n",
        "    - 3: Blue\n",
        "    - 4: In taxi\n",
        "\n",
        "    Destinations:\n",
        "    - 0: Red\n",
        "    - 1: Green\n",
        "    - 2: Yellow\n",
        "    - 3: Blue\n",
        "\n",
        "    An observation is returned as an `int()` that encodes the corresponding state, calculated by\n",
        "    `((taxi_row * 5 + taxi_col) * 5 + passenger_location) * 4 + destination`\n",
        "\n",
        "    Note that there are 400 states that can actually be reached during an\n",
        "    episode. The missing states correspond to situations in which the passenger\n",
        "    is at the same location as their destination, as this typically signals the\n",
        "    end of an episode. Four additional states can be observed right after a\n",
        "    successful episodes, when both the passenger and the taxi are at the destination.\n",
        "    This gives a total of 404 reachable discrete states.\n",
        "\n",
        "    ## Starting State\n",
        "    The episode starts with the player in a random state.\n",
        "\n",
        "    ## Rewards\n",
        "    - -1 per step unless other reward is triggered.\n",
        "    - +20 delivering passenger.\n",
        "    - -10  executing \"pickup\" and \"drop-off\" actions illegally.\n",
        "\n",
        "    An action that results a noop, like moving into a wall, will incur the time step\n",
        "    penalty. Noops can be avoided by sampling the `action_mask` returned in `info`.\n",
        "\n",
        "    ## Episode End\n",
        "    The episode ends if the following happens:\n",
        "\n",
        "    - Termination:\n",
        "            1. The taxi drops off the passenger.\n",
        "\n",
        "    - Truncation (when using the time_limit wrapper):\n",
        "            1. The length of the episode is 200.\n",
        "\n",
        "    ## Information\n",
        "\n",
        "    `step()` and `reset()` return a dict with the following keys:\n",
        "    - p - transition proability for the state.\n",
        "    - action_mask - if actions will cause a transition to a new state.\n",
        "\n",
        "    As taxi is not stochastic, the transition probability is always 1.0. Implementing\n",
        "    a transitional probability in line with the Dietterich paper ('The fickle taxi task')\n",
        "    is a TODO.\n",
        "\n",
        "    For some cases, taking an action will have no effect on the state of the episode.\n",
        "    In v0.25.0, ``info[\"action_mask\"]`` contains a np.ndarray for each of the actions specifying\n",
        "    if the action will change the state.\n",
        "\n",
        "    To sample a modifying action, use ``action = env.action_space.sample(info[\"action_mask\"])``\n",
        "    Or with a Q-value based algorithm ``action = np.argmax(q_values[obs, np.where(info[\"action_mask\"] == 1)[0]])``.\n",
        "\n",
        "\n",
        "    ## Arguments\n",
        "\n",
        "    ```python\n",
        "    import gymnasium as gym\n",
        "    gym.make('Taxi-v3')\n",
        "    ```\n",
        "\n",
        "    ## References\n",
        "    <a id=\"taxi_ref\"></a>[1] T. G. Dietterich, “Hierarchical Reinforcement Learning with the MAXQ Value Function Decomposition,”\n",
        "    Journal of Artificial Intelligence Research, vol. 13, pp. 227–303, Nov. 2000, doi: 10.1613/jair.639.\n",
        "\n",
        "    ## Version History\n",
        "    * v3: Map Correction + Cleaner Domain Description, v0.25.0 action masking added to the reset and step information\n",
        "    * v2: Disallow Taxi start location = goal location, Update Taxi observations in the rollout, Update Taxi reward threshold.\n",
        "    * v1: Remove (3,2) from locs, add passidx<4 check\n",
        "    * v0: Initial version release\n",
        "    \"\"\"\n",
        "\n",
        "    metadata = {\n",
        "        \"render_modes\": [\"human\", \"ansi\", \"rgb_array\"],\n",
        "        \"render_fps\": 4,\n",
        "    }\n",
        "\n",
        "    def __init__(self, render_mode: Optional[str] = None):\n",
        "        self.desc = np.asarray(MAP, dtype=\"c\")\n",
        "\n",
        "        self.locs = locs = [(0, 0), (0, 4), (4, 0), (4, 3)]\n",
        "        self.locs_colors = [(255, 0, 0), (0, 255, 0), (255, 255, 0), (0, 0, 255)]\n",
        "\n",
        "        num_states = 500\n",
        "        num_rows = 5\n",
        "        num_columns = 5\n",
        "        max_row = num_rows - 1\n",
        "        max_col = num_columns - 1\n",
        "        self.initial_state_distrib = np.zeros(num_states)\n",
        "        num_actions = 6\n",
        "        self.P = {\n",
        "            state: {action: [] for action in range(num_actions)}\n",
        "            for state in range(num_states)\n",
        "        }\n",
        "        for row in range(num_rows):\n",
        "            for col in range(num_columns):\n",
        "                for pass_idx in range(len(locs) + 1):  # +1 for being inside taxi\n",
        "                    for dest_idx in range(len(locs)):\n",
        "                        state = self.encode(row, col, pass_idx, dest_idx)\n",
        "                        if pass_idx < 4 and pass_idx != dest_idx:\n",
        "                            self.initial_state_distrib[state] += 1\n",
        "                        for action in range(num_actions):\n",
        "                            # defaults\n",
        "                            new_row, new_col, new_pass_idx = row, col, pass_idx\n",
        "                            reward = (\n",
        "                                -1\n",
        "                            )  # default reward when there is no pickup/dropoff\n",
        "                            terminated = False\n",
        "                            taxi_loc = (row, col)\n",
        "\n",
        "                            if action == 0:\n",
        "                                new_row = min(row + 1, max_row)\n",
        "                            elif action == 1:\n",
        "                                new_row = max(row - 1, 0)\n",
        "                            if action == 2 and self.desc[1 + row, 2 * col + 2] == b\":\":\n",
        "                                new_col = min(col + 1, max_col)\n",
        "                            elif action == 3 and self.desc[1 + row, 2 * col] == b\":\":\n",
        "                                new_col = max(col - 1, 0)\n",
        "                            elif action == 4:  # pickup\n",
        "                                if pass_idx < 4 and taxi_loc == locs[pass_idx]:\n",
        "                                    new_pass_idx = 4\n",
        "                                else:  # passenger not at location\n",
        "                                    reward = -10\n",
        "                            elif action == 5:  # dropoff\n",
        "                                if (taxi_loc == locs[dest_idx]) and pass_idx == 4:\n",
        "                                    new_pass_idx = dest_idx\n",
        "                                    terminated = True\n",
        "                                    reward = 20\n",
        "                                elif (taxi_loc in locs) and pass_idx == 4:\n",
        "                                    new_pass_idx = locs.index(taxi_loc)\n",
        "                                else:  # dropoff at wrong location\n",
        "                                    reward = -10\n",
        "                            new_state = self.encode(\n",
        "                                new_row, new_col, new_pass_idx, dest_idx\n",
        "                            )\n",
        "                            self.P[state][action].append(\n",
        "                                (1.0, new_state, reward, terminated)\n",
        "                            )\n",
        "        self.initial_state_distrib /= self.initial_state_distrib.sum()\n",
        "        self.action_space = spaces.Discrete(num_actions)\n",
        "        self.observation_space = spaces.Discrete(num_states)\n",
        "\n",
        "        self.render_mode = render_mode\n",
        "\n",
        "        # pygame utils\n",
        "        self.window = None\n",
        "        self.clock = None\n",
        "        self.cell_size = (\n",
        "            WINDOW_SIZE[0] / self.desc.shape[1],\n",
        "            WINDOW_SIZE[1] / self.desc.shape[0],\n",
        "        )\n",
        "        self.taxi_imgs = None\n",
        "        self.taxi_orientation = 0\n",
        "        self.passenger_img = None\n",
        "        self.destination_img = None\n",
        "        self.median_horiz = None\n",
        "        self.median_vert = None\n",
        "        self.background_img = None\n",
        "\n",
        "    def encode(self, taxi_row, taxi_col, pass_loc, dest_idx):\n",
        "        # (5) 5, 5, 4\n",
        "        i = taxi_row\n",
        "        i *= 5\n",
        "        i += taxi_col\n",
        "        i *= 5\n",
        "        i += pass_loc\n",
        "        i *= 4\n",
        "        i += dest_idx\n",
        "        return i\n",
        "\n",
        "    def decode(self, i):\n",
        "        out = []\n",
        "        out.append(i % 4)\n",
        "        i = i // 4\n",
        "        out.append(i % 5)\n",
        "        i = i // 5\n",
        "        out.append(i % 5)\n",
        "        i = i // 5\n",
        "        out.append(i)\n",
        "        assert 0 <= i < 5\n",
        "        return reversed(out)\n",
        "\n",
        "    def action_mask(self, state: int):\n",
        "        \"\"\"Computes an action mask for the action space using the state information.\"\"\"\n",
        "        mask = np.zeros(6, dtype=np.int8)\n",
        "        taxi_row, taxi_col, pass_loc, dest_idx = self.decode(state)\n",
        "        if taxi_row < 4:\n",
        "            mask[0] = 1\n",
        "        if taxi_row > 0:\n",
        "            mask[1] = 1\n",
        "        if taxi_col < 4 and self.desc[taxi_row + 1, 2 * taxi_col + 2] == b\":\":\n",
        "            mask[2] = 1\n",
        "        if taxi_col > 0 and self.desc[taxi_row + 1, 2 * taxi_col] == b\":\":\n",
        "            mask[3] = 1\n",
        "        if pass_loc < 4 and (taxi_row, taxi_col) == self.locs[pass_loc]:\n",
        "            mask[4] = 1\n",
        "        if pass_loc == 4 and (\n",
        "            (taxi_row, taxi_col) == self.locs[dest_idx]\n",
        "            or (taxi_row, taxi_col) in self.locs\n",
        "        ):\n",
        "            mask[5] = 1\n",
        "        return mask\n",
        "\n",
        "    def step(self, a):\n",
        "        transitions = self.P[self.s][a]\n",
        "        i = categorical_sample([t[0] for t in transitions], self.np_random)\n",
        "        p, s, r, t = transitions[i]\n",
        "        self.s = s\n",
        "        self.lastaction = a\n",
        "\n",
        "        if self.render_mode == \"human\":\n",
        "            self.render()\n",
        "        return (int(s), r, t, False, {\"prob\": p, \"action_mask\": self.action_mask(s)})\n",
        "\n",
        "    def reset(\n",
        "        self,\n",
        "        *,\n",
        "        seed: Optional[int] = None,\n",
        "        options: Optional[dict] = None,\n",
        "    ):\n",
        "        super().reset(seed=seed)\n",
        "        self.s = categorical_sample(self.initial_state_distrib, self.np_random)\n",
        "        self.lastaction = None\n",
        "        self.taxi_orientation = 0\n",
        "\n",
        "        if self.render_mode == \"human\":\n",
        "            self.render()\n",
        "        return int(self.s), {\"prob\": 1.0, \"action_mask\": self.action_mask(self.s)}\n",
        "\n",
        "    def render(self):\n",
        "        if self.render_mode is None:\n",
        "            assert self.spec is not None\n",
        "            gym.logger.warn(\n",
        "                \"You are calling render method without specifying any render mode. \"\n",
        "                \"You can specify the render_mode at initialization, \"\n",
        "                f'e.g. gym.make(\"{self.spec.id}\", render_mode=\"rgb_array\")'\n",
        "            )\n",
        "            return\n",
        "        elif self.render_mode == \"ansi\":\n",
        "            return self._render_text()\n",
        "        else:  # self.render_mode in {\"human\", \"rgb_array\"}:\n",
        "            return self._render_gui(self.render_mode)\n",
        "\n",
        "    def _render_gui(self, mode):\n",
        "        try:\n",
        "            import pygame  # dependency to pygame only if rendering with human\n",
        "        except ImportError as e:\n",
        "            raise DependencyNotInstalled(\n",
        "                \"pygame is not installed, run `pip install gymnasium[toy-text]`\"\n",
        "            ) from e\n",
        "\n",
        "        if self.window is None:\n",
        "            pygame.init()\n",
        "            pygame.display.set_caption(\"Taxi\")\n",
        "            if mode == \"human\":\n",
        "                self.window = pygame.display.set_mode(WINDOW_SIZE)\n",
        "            elif mode == \"rgb_array\":\n",
        "                self.window = pygame.Surface(WINDOW_SIZE)\n",
        "\n",
        "        assert (\n",
        "            self.window is not None\n",
        "        ), \"Something went wrong with pygame. This should never happen.\"\n",
        "        if self.clock is None:\n",
        "            self.clock = pygame.time.Clock()\n",
        "        if self.taxi_imgs is None:\n",
        "            file_names = [\n",
        "                path.join(path.dirname(__file__), \"img/cab_front.png\"),\n",
        "                path.join(path.dirname(__file__), \"img/cab_rear.png\"),\n",
        "                path.join(path.dirname(__file__), \"img/cab_right.png\"),\n",
        "                path.join(path.dirname(__file__), \"img/cab_left.png\"),\n",
        "            ]\n",
        "            self.taxi_imgs = [\n",
        "                pygame.transform.scale(pygame.image.load(file_name), self.cell_size)\n",
        "                for file_name in file_names\n",
        "            ]\n",
        "        if self.passenger_img is None:\n",
        "            file_name = path.join(path.dirname(__file__), \"img/passenger.png\")\n",
        "            self.passenger_img = pygame.transform.scale(\n",
        "                pygame.image.load(file_name), self.cell_size\n",
        "            )\n",
        "        if self.destination_img is None:\n",
        "            file_name = path.join(path.dirname(__file__), \"img/hotel.png\")\n",
        "            self.destination_img = pygame.transform.scale(\n",
        "                pygame.image.load(file_name), self.cell_size\n",
        "            )\n",
        "            self.destination_img.set_alpha(170)\n",
        "        if self.median_horiz is None:\n",
        "            file_names = [\n",
        "                path.join(path.dirname(__file__), \"img/gridworld_median_left.png\"),\n",
        "                path.join(path.dirname(__file__), \"img/gridworld_median_horiz.png\"),\n",
        "                path.join(path.dirname(__file__), \"img/gridworld_median_right.png\"),\n",
        "            ]\n",
        "            self.median_horiz = [\n",
        "                pygame.transform.scale(pygame.image.load(file_name), self.cell_size)\n",
        "                for file_name in file_names\n",
        "            ]\n",
        "        if self.median_vert is None:\n",
        "            file_names = [\n",
        "                path.join(path.dirname(__file__), \"img/gridworld_median_top.png\"),\n",
        "                path.join(path.dirname(__file__), \"img/gridworld_median_vert.png\"),\n",
        "                path.join(path.dirname(__file__), \"img/gridworld_median_bottom.png\"),\n",
        "            ]\n",
        "            self.median_vert = [\n",
        "                pygame.transform.scale(pygame.image.load(file_name), self.cell_size)\n",
        "                for file_name in file_names\n",
        "            ]\n",
        "        if self.background_img is None:\n",
        "            file_name = path.join(path.dirname(__file__), \"img/taxi_background.png\")\n",
        "            self.background_img = pygame.transform.scale(\n",
        "                pygame.image.load(file_name), self.cell_size\n",
        "            )\n",
        "\n",
        "        desc = self.desc\n",
        "\n",
        "        for y in range(0, desc.shape[0]):\n",
        "            for x in range(0, desc.shape[1]):\n",
        "                cell = (x * self.cell_size[0], y * self.cell_size[1])\n",
        "                self.window.blit(self.background_img, cell)\n",
        "                if desc[y][x] == b\"|\" and (y == 0 or desc[y - 1][x] != b\"|\"):\n",
        "                    self.window.blit(self.median_vert[0], cell)\n",
        "                elif desc[y][x] == b\"|\" and (\n",
        "                    y == desc.shape[0] - 1 or desc[y + 1][x] != b\"|\"\n",
        "                ):\n",
        "                    self.window.blit(self.median_vert[2], cell)\n",
        "                elif desc[y][x] == b\"|\":\n",
        "                    self.window.blit(self.median_vert[1], cell)\n",
        "                elif desc[y][x] == b\"-\" and (x == 0 or desc[y][x - 1] != b\"-\"):\n",
        "                    self.window.blit(self.median_horiz[0], cell)\n",
        "                elif desc[y][x] == b\"-\" and (\n",
        "                    x == desc.shape[1] - 1 or desc[y][x + 1] != b\"-\"\n",
        "                ):\n",
        "                    self.window.blit(self.median_horiz[2], cell)\n",
        "                elif desc[y][x] == b\"-\":\n",
        "                    self.window.blit(self.median_horiz[1], cell)\n",
        "\n",
        "        for cell, color in zip(self.locs, self.locs_colors):\n",
        "            color_cell = pygame.Surface(self.cell_size)\n",
        "            color_cell.set_alpha(128)\n",
        "            color_cell.fill(color)\n",
        "            loc = self.get_surf_loc(cell)\n",
        "            self.window.blit(color_cell, (loc[0], loc[1] + 10))\n",
        "\n",
        "        taxi_row, taxi_col, pass_idx, dest_idx = self.decode(self.s)\n",
        "\n",
        "        if pass_idx < 4:\n",
        "            self.window.blit(self.passenger_img, self.get_surf_loc(self.locs[pass_idx]))\n",
        "\n",
        "        if self.lastaction in [0, 1, 2, 3]:\n",
        "            self.taxi_orientation = self.lastaction\n",
        "        dest_loc = self.get_surf_loc(self.locs[dest_idx])\n",
        "        taxi_location = self.get_surf_loc((taxi_row, taxi_col))\n",
        "\n",
        "        if dest_loc[1] <= taxi_location[1]:\n",
        "            self.window.blit(\n",
        "                self.destination_img,\n",
        "                (dest_loc[0], dest_loc[1] - self.cell_size[1] // 2),\n",
        "            )\n",
        "            self.window.blit(self.taxi_imgs[self.taxi_orientation], taxi_location)\n",
        "        else:  # change blit order for overlapping appearance\n",
        "            self.window.blit(self.taxi_imgs[self.taxi_orientation], taxi_location)\n",
        "            self.window.blit(\n",
        "                self.destination_img,\n",
        "                (dest_loc[0], dest_loc[1] - self.cell_size[1] // 2),\n",
        "            )\n",
        "\n",
        "        if mode == \"human\":\n",
        "            pygame.display.update()\n",
        "            self.clock.tick(self.metadata[\"render_fps\"])\n",
        "        elif mode == \"rgb_array\":\n",
        "            return np.transpose(\n",
        "                np.array(pygame.surfarray.pixels3d(self.window)), axes=(1, 0, 2)\n",
        "            )\n",
        "\n",
        "    def get_surf_loc(self, map_loc):\n",
        "        return (map_loc[1] * 2 + 1) * self.cell_size[0], (\n",
        "            map_loc[0] + 1\n",
        "        ) * self.cell_size[1]\n",
        "\n",
        "    def _render_text(self):\n",
        "        desc = self.desc.copy().tolist()\n",
        "        outfile = StringIO()\n",
        "\n",
        "        out = [[c.decode(\"utf-8\") for c in line] for line in desc]\n",
        "        taxi_row, taxi_col, pass_idx, dest_idx = self.decode(self.s)\n",
        "\n",
        "        def ul(x):\n",
        "            return \"_\" if x == \" \" else x\n",
        "\n",
        "        if pass_idx < 4:\n",
        "            out[1 + taxi_row][2 * taxi_col + 1] = utils.colorize(\n",
        "                out[1 + taxi_row][2 * taxi_col + 1], \"yellow\", highlight=True\n",
        "            )\n",
        "            pi, pj = self.locs[pass_idx]\n",
        "            out[1 + pi][2 * pj + 1] = utils.colorize(\n",
        "                out[1 + pi][2 * pj + 1], \"blue\", bold=True\n",
        "            )\n",
        "        else:  # passenger in taxi\n",
        "            out[1 + taxi_row][2 * taxi_col + 1] = utils.colorize(\n",
        "                ul(out[1 + taxi_row][2 * taxi_col + 1]), \"green\", highlight=True\n",
        "            )\n",
        "\n",
        "        di, dj = self.locs[dest_idx]\n",
        "        out[1 + di][2 * dj + 1] = utils.colorize(out[1 + di][2 * dj + 1], \"magenta\")\n",
        "        outfile.write(\"\\n\".join([\"\".join(row) for row in out]) + \"\\n\")\n",
        "        if self.lastaction is not None:\n",
        "            outfile.write(\n",
        "                f\"  ({['South', 'North', 'East', 'West', 'Pickup', 'Dropoff'][self.lastaction]})\\n\"\n",
        "            )\n",
        "        else:\n",
        "            outfile.write(\"\\n\")\n",
        "\n",
        "        with closing(outfile):\n",
        "            return outfile.getvalue()\n",
        "\n",
        "    def close(self):\n",
        "        if self.window is not None:\n",
        "            import pygame\n",
        "\n",
        "            pygame.display.quit()\n",
        "            pygame.quit()\n",
        "\n",
        "\n",
        "# Taxi rider from https://franuka.itch.io/rpg-asset-pack\n",
        "# All other assets by Mel Tillery http://www.cyaneus.com/"
      ],
      "metadata": {
        "id": "uCshnnP38wOm"
      },
      "execution_count": 5,
      "outputs": []
    },
    {
      "cell_type": "code",
      "source": [
        "import gymnasium as gym\n",
        "import numpy as np\n",
        "\n",
        "from sb3_contrib.common.maskable.policies import MaskableActorCriticPolicy\n",
        "from sb3_contrib.common.wrappers import ActionMasker\n",
        "from sb3_contrib.ppo_mask import MaskablePPO\n",
        "\n",
        "\n",
        "def mask_fn(env):\n",
        "    # Do whatever you'd like in this function to return the action mask\n",
        "    # for the current env. In this example, we assume the env has a\n",
        "    # helpful method we can rely on.\n",
        "    return env.action_mask(env.s)\n",
        "\n",
        "\n",
        "env = gym.make(\"Taxi-v3\", render_mode = \"rgb_array\")\n",
        "\n",
        "env = gym.wrappers.RecordVideo(env, 'test')\n",
        "\n",
        "env = ActionMasker(env, mask_fn)  # Wrap to enable masking\n",
        "\n",
        "\n",
        "experiment = comet_ml.Experiment()\n",
        "\n",
        "env = CometLogger(env, experiment)\n",
        "\n",
        "# MaskablePPO behaves the same as SB3's PPO unless the env is wrapped\n",
        "# with ActionMasker. If the wrapper is detected, the masks are automatically\n",
        "# retrieved and used when learning. Note that MaskablePPO does not accept\n",
        "# a new action_mask_fn kwarg, as it did in an earlier draft.\n",
        "model = MaskablePPO(MaskableActorCriticPolicy, env, verbose=0)\n",
        "model.learn(total_timesteps=100000)\n",
        "\n",
        "env.close()\n",
        "experiment.end()"
      ],
      "metadata": {
        "colab": {
          "base_uri": "https://localhost:8080/"
        },
        "id": "--BIdIl2f5o6",
        "outputId": "6c53a8c1-0bc8-4c4f-ea98-fed1efb5f17b"
      },
      "execution_count": 17,
      "outputs": [
        {
          "output_type": "stream",
          "name": "stderr",
          "text": [
            "/usr/local/lib/python3.10/dist-packages/ipykernel/ipkernel.py:283: DeprecationWarning: `should_run_async` will not call `transform_cell` automatically in the future. Please pass the result to `transformed_cell` argument and any exception that happen during thetransform in `preprocessing_exc_tuple` in IPython 7.17 and above.\n",
            "  and should_run_async(code)\n",
            "\u001b[1;38;5;214mCOMET WARNING:\u001b[0m As you are running in a Jupyter environment, you will need to call `experiment.end()` when finished to ensure all metrics and code are logged before exiting.\n",
            "\u001b[1;38;5;39mCOMET INFO:\u001b[0m Couldn't find a Git repository in '/content' nor in any parent directory. Set `COMET_GIT_DIRECTORY` if your Git Repository is elsewhere.\n",
            "\u001b[1;38;5;39mCOMET INFO:\u001b[0m Experiment is live on comet.com https://www.comet.com/campiao/comet-examples-gymnasium-notebook/3de5e9294d5b48b3965ca86fb8533db7\n",
            "\n",
            "/usr/local/lib/python3.10/dist-packages/gymnasium/core.py:311: UserWarning: \u001b[33mWARN: env.action_masks to get variables from other wrappers is deprecated and will be removed in v1.0, to get this variable you can do `env.unwrapped.action_masks` for environment variables or `env.get_wrapper_attr('action_masks')` that will search the reminding wrappers.\u001b[0m\n",
            "  logger.warn(\n",
            "/usr/local/lib/python3.10/dist-packages/gymnasium/core.py:311: UserWarning: \u001b[33mWARN: env.action_mask to get variables from other wrappers is deprecated and will be removed in v1.0, to get this variable you can do `env.unwrapped.action_mask` for environment variables or `env.get_wrapper_attr('action_mask')` that will search the reminding wrappers.\u001b[0m\n",
            "  logger.warn(\n",
            "/usr/local/lib/python3.10/dist-packages/gymnasium/core.py:311: UserWarning: \u001b[33mWARN: env.s to get variables from other wrappers is deprecated and will be removed in v1.0, to get this variable you can do `env.unwrapped.s` for environment variables or `env.get_wrapper_attr('s')` that will search the reminding wrappers.\u001b[0m\n",
            "  logger.warn(\n"
          ]
        },
        {
          "output_type": "stream",
          "name": "stdout",
          "text": [
            "Moviepy - Building video /content/test/rl-video-episode-0.mp4.\n",
            "Moviepy - Writing video /content/test/rl-video-episode-0.mp4\n",
            "\n"
          ]
        },
        {
          "output_type": "stream",
          "name": "stderr",
          "text": []
        },
        {
          "output_type": "stream",
          "name": "stdout",
          "text": [
            "Moviepy - Done !\n",
            "Moviepy - video ready /content/test/rl-video-episode-0.mp4\n"
          ]
        },
        {
          "output_type": "stream",
          "name": "stderr",
          "text": [
            "/usr/local/lib/python3.10/dist-packages/gymnasium/core.py:311: UserWarning: \u001b[33mWARN: env.action_masks to get variables from other wrappers is deprecated and will be removed in v1.0, to get this variable you can do `env.unwrapped.action_masks` for environment variables or `env.get_wrapper_attr('action_masks')` that will search the reminding wrappers.\u001b[0m\n",
            "  logger.warn(\n",
            "/usr/local/lib/python3.10/dist-packages/gymnasium/core.py:311: UserWarning: \u001b[33mWARN: env.action_mask to get variables from other wrappers is deprecated and will be removed in v1.0, to get this variable you can do `env.unwrapped.action_mask` for environment variables or `env.get_wrapper_attr('action_mask')` that will search the reminding wrappers.\u001b[0m\n",
            "  logger.warn(\n",
            "/usr/local/lib/python3.10/dist-packages/gymnasium/core.py:311: UserWarning: \u001b[33mWARN: env.s to get variables from other wrappers is deprecated and will be removed in v1.0, to get this variable you can do `env.unwrapped.s` for environment variables or `env.get_wrapper_attr('s')` that will search the reminding wrappers.\u001b[0m\n",
            "  logger.warn(\n"
          ]
        },
        {
          "output_type": "stream",
          "name": "stdout",
          "text": [
            "Moviepy - Building video /content/test/rl-video-episode-1.mp4.\n",
            "Moviepy - Writing video /content/test/rl-video-episode-1.mp4\n",
            "\n"
          ]
        },
        {
          "output_type": "stream",
          "name": "stderr",
          "text": []
        },
        {
          "output_type": "stream",
          "name": "stdout",
          "text": [
            "Moviepy - Done !\n",
            "Moviepy - video ready /content/test/rl-video-episode-1.mp4\n",
            "Moviepy - Building video /content/test/rl-video-episode-8.mp4.\n",
            "Moviepy - Writing video /content/test/rl-video-episode-8.mp4\n",
            "\n"
          ]
        },
        {
          "output_type": "stream",
          "name": "stderr",
          "text": []
        },
        {
          "output_type": "stream",
          "name": "stdout",
          "text": [
            "Moviepy - Done !\n",
            "Moviepy - video ready /content/test/rl-video-episode-8.mp4\n",
            "Moviepy - Building video /content/test/rl-video-episode-27.mp4.\n",
            "Moviepy - Writing video /content/test/rl-video-episode-27.mp4\n",
            "\n"
          ]
        },
        {
          "output_type": "stream",
          "name": "stderr",
          "text": []
        },
        {
          "output_type": "stream",
          "name": "stdout",
          "text": [
            "Moviepy - Done !\n",
            "Moviepy - video ready /content/test/rl-video-episode-27.mp4\n",
            "Moviepy - Building video /content/test/rl-video-episode-64.mp4.\n",
            "Moviepy - Writing video /content/test/rl-video-episode-64.mp4\n",
            "\n"
          ]
        },
        {
          "output_type": "stream",
          "name": "stderr",
          "text": []
        },
        {
          "output_type": "stream",
          "name": "stdout",
          "text": [
            "Moviepy - Done !\n",
            "Moviepy - video ready /content/test/rl-video-episode-64.mp4\n",
            "Moviepy - Building video /content/test/rl-video-episode-125.mp4.\n",
            "Moviepy - Writing video /content/test/rl-video-episode-125.mp4\n",
            "\n"
          ]
        },
        {
          "output_type": "stream",
          "name": "stderr",
          "text": []
        },
        {
          "output_type": "stream",
          "name": "stdout",
          "text": [
            "Moviepy - Done !\n",
            "Moviepy - video ready /content/test/rl-video-episode-125.mp4\n",
            "Moviepy - Building video /content/test/rl-video-episode-216.mp4.\n",
            "Moviepy - Writing video /content/test/rl-video-episode-216.mp4\n",
            "\n"
          ]
        },
        {
          "output_type": "stream",
          "name": "stderr",
          "text": []
        },
        {
          "output_type": "stream",
          "name": "stdout",
          "text": [
            "Moviepy - Done !\n",
            "Moviepy - video ready /content/test/rl-video-episode-216.mp4\n",
            "Moviepy - Building video /content/test/rl-video-episode-343.mp4.\n",
            "Moviepy - Writing video /content/test/rl-video-episode-343.mp4\n",
            "\n"
          ]
        },
        {
          "output_type": "stream",
          "name": "stderr",
          "text": []
        },
        {
          "output_type": "stream",
          "name": "stdout",
          "text": [
            "Moviepy - Done !\n",
            "Moviepy - video ready /content/test/rl-video-episode-343.mp4\n",
            "Moviepy - Building video /content/test/rl-video-episode-512.mp4.\n",
            "Moviepy - Writing video /content/test/rl-video-episode-512.mp4\n",
            "\n"
          ]
        },
        {
          "output_type": "stream",
          "name": "stderr",
          "text": []
        },
        {
          "output_type": "stream",
          "name": "stdout",
          "text": [
            "Moviepy - Done !\n",
            "Moviepy - video ready /content/test/rl-video-episode-512.mp4\n",
            "Moviepy - Building video /content/test/rl-video-episode-729.mp4.\n",
            "Moviepy - Writing video /content/test/rl-video-episode-729.mp4\n",
            "\n"
          ]
        },
        {
          "output_type": "stream",
          "name": "stderr",
          "text": []
        },
        {
          "output_type": "stream",
          "name": "stdout",
          "text": [
            "Moviepy - Done !\n",
            "Moviepy - video ready /content/test/rl-video-episode-729.mp4\n",
            "Moviepy - Building video /content/test/rl-video-episode-1000.mp4.\n",
            "Moviepy - Writing video /content/test/rl-video-episode-1000.mp4\n",
            "\n"
          ]
        },
        {
          "output_type": "stream",
          "name": "stderr",
          "text": []
        },
        {
          "output_type": "stream",
          "name": "stdout",
          "text": [
            "Moviepy - Done !\n",
            "Moviepy - video ready /content/test/rl-video-episode-1000.mp4\n",
            "Moviepy - Building video /content/test/rl-video-episode-2000.mp4.\n",
            "Moviepy - Writing video /content/test/rl-video-episode-2000.mp4\n",
            "\n"
          ]
        },
        {
          "output_type": "stream",
          "name": "stderr",
          "text": []
        },
        {
          "output_type": "stream",
          "name": "stdout",
          "text": [
            "Moviepy - Done !\n",
            "Moviepy - video ready /content/test/rl-video-episode-2000.mp4\n",
            "Moviepy - Building video /content/test/rl-video-episode-3000.mp4.\n",
            "Moviepy - Writing video /content/test/rl-video-episode-3000.mp4\n",
            "\n"
          ]
        },
        {
          "output_type": "stream",
          "name": "stderr",
          "text": []
        },
        {
          "output_type": "stream",
          "name": "stdout",
          "text": [
            "Moviepy - Done !\n",
            "Moviepy - video ready /content/test/rl-video-episode-3000.mp4\n",
            "Moviepy - Building video /content/test/rl-video-episode-4000.mp4.\n",
            "Moviepy - Writing video /content/test/rl-video-episode-4000.mp4\n",
            "\n"
          ]
        },
        {
          "output_type": "stream",
          "name": "stderr",
          "text": [
            "                                                  "
          ]
        },
        {
          "output_type": "stream",
          "name": "stdout",
          "text": [
            "Moviepy - Done !\n",
            "Moviepy - video ready /content/test/rl-video-episode-4000.mp4\n"
          ]
        },
        {
          "output_type": "stream",
          "name": "stderr",
          "text": [
            "\r\u001b[1;38;5;214mCOMET WARNING:\u001b[0m The default value for the log_file_name parameter will change from False to True in a future version. Explicitly pass log_file_name=True or log_file_name=False to disable this warning\n",
            "\u001b[1;38;5;39mCOMET INFO:\u001b[0m ---------------------------------------------------------------------------------------\n",
            "\u001b[1;38;5;39mCOMET INFO:\u001b[0m Comet.ml Experiment Summary\n",
            "\u001b[1;38;5;39mCOMET INFO:\u001b[0m ---------------------------------------------------------------------------------------\n",
            "\u001b[1;38;5;39mCOMET INFO:\u001b[0m   Data:\n",
            "\u001b[1;38;5;39mCOMET INFO:\u001b[0m     display_summary_level : 1\n",
            "\u001b[1;38;5;39mCOMET INFO:\u001b[0m     url                   : https://www.comet.com/campiao/comet-examples-gymnasium-notebook/3de5e9294d5b48b3965ca86fb8533db7\n",
            "\u001b[1;38;5;39mCOMET INFO:\u001b[0m   Metrics [count] (min, max):\n",
            "\u001b[1;38;5;39mCOMET INFO:\u001b[0m     episode_length [4463] : (6, 200)\n",
            "\u001b[1;38;5;39mCOMET INFO:\u001b[0m     episode_reward [4463] : (-200, 15)\n",
            "\u001b[1;38;5;39mCOMET INFO:\u001b[0m     loss [1568]           : (-0.03345002233982086, 204.791015625)\n",
            "\u001b[1;38;5;39mCOMET INFO:\u001b[0m   Uploads:\n",
            "\u001b[1;38;5;39mCOMET INFO:\u001b[0m     asset               : 28 (1.99 MB)\n",
            "\u001b[1;38;5;39mCOMET INFO:\u001b[0m     environment details : 1\n",
            "\u001b[1;38;5;39mCOMET INFO:\u001b[0m     filename            : 1\n",
            "\u001b[1;38;5;39mCOMET INFO:\u001b[0m     installed packages  : 1\n",
            "\u001b[1;38;5;39mCOMET INFO:\u001b[0m     notebook            : 2\n",
            "\u001b[1;38;5;39mCOMET INFO:\u001b[0m     os packages         : 1\n",
            "\u001b[1;38;5;39mCOMET INFO:\u001b[0m     source_code         : 1\n",
            "\u001b[1;38;5;39mCOMET INFO:\u001b[0m \n",
            "\u001b[1;38;5;39mCOMET INFO:\u001b[0m Uploading 6589 metrics, params and output messages\n",
            "\u001b[1;38;5;39mCOMET INFO:\u001b[0m Uploading 850 metrics, params and output messages\n"
          ]
        }
      ]
    },
    {
      "cell_type": "code",
      "execution_count": 9,
      "metadata": {
        "id": "P3uQi6W_sNF8",
        "colab": {
          "base_uri": "https://localhost:8080/",
          "height": 450,
          "referenced_widgets": [
            "4b88f5dec49e4cf4b89b6eae2c670ec2",
            "bf25fb6aa76a469da93b173e3885e3e1"
          ]
        },
        "outputId": "1f0c9880-3dce-48d7-d9ae-d220cc921e7f"
      },
      "outputs": [
        {
          "output_type": "stream",
          "name": "stderr",
          "text": [
            "\u001b[1;38;5;214mCOMET WARNING:\u001b[0m As you are running in a Jupyter environment, you will need to call `experiment.end()` when finished to ensure all metrics and code are logged before exiting.\n",
            "\u001b[1;38;5;39mCOMET INFO:\u001b[0m Couldn't find a Git repository in '/content' nor in any parent directory. Set `COMET_GIT_DIRECTORY` if your Git Repository is elsewhere.\n",
            "\u001b[1;38;5;39mCOMET INFO:\u001b[0m Experiment is live on comet.com https://www.comet.com/campiao/comet-examples-gymnasium-notebook/18a73689273444ea973c5a3615201cb5\n",
            "\n"
          ]
        },
        {
          "output_type": "display_data",
          "data": {
            "text/plain": [
              "Output()"
            ],
            "application/vnd.jupyter.widget-view+json": {
              "version_major": 2,
              "version_minor": 0,
              "model_id": "4b88f5dec49e4cf4b89b6eae2c670ec2"
            }
          },
          "metadata": {}
        },
        {
          "output_type": "display_data",
          "data": {
            "text/plain": [],
            "text/html": [
              "<pre style=\"white-space:pre;overflow-x:auto;line-height:normal;font-family:Menlo,'DejaVu Sans Mono',consolas,'Courier New',monospace\"></pre>\n"
            ]
          },
          "metadata": {}
        },
        {
          "output_type": "display_data",
          "data": {
            "text/plain": [
              "\n"
            ],
            "text/html": [
              "<pre style=\"white-space:pre;overflow-x:auto;line-height:normal;font-family:Menlo,'DejaVu Sans Mono',consolas,'Courier New',monospace\">\n",
              "</pre>\n"
            ]
          },
          "metadata": {}
        },
        {
          "output_type": "stream",
          "name": "stderr",
          "text": [
            "\u001b[1;38;5;39mCOMET INFO:\u001b[0m ---------------------------------------------------------------------------------------\n",
            "\u001b[1;38;5;39mCOMET INFO:\u001b[0m Comet.ml Experiment Summary\n",
            "\u001b[1;38;5;39mCOMET INFO:\u001b[0m ---------------------------------------------------------------------------------------\n",
            "\u001b[1;38;5;39mCOMET INFO:\u001b[0m   Data:\n",
            "\u001b[1;38;5;39mCOMET INFO:\u001b[0m     display_summary_level : 1\n",
            "\u001b[1;38;5;39mCOMET INFO:\u001b[0m     url                   : https://www.comet.com/campiao/comet-examples-gymnasium-notebook/18a73689273444ea973c5a3615201cb5\n",
            "\u001b[1;38;5;39mCOMET INFO:\u001b[0m   Metrics [count] (min, max):\n",
            "\u001b[1;38;5;39mCOMET INFO:\u001b[0m     episode_length       : 200\n",
            "\u001b[1;38;5;39mCOMET INFO:\u001b[0m     episode_reward [250] : (-7.21999999999997, -2.0000000000000013)\n",
            "\u001b[1;38;5;39mCOMET INFO:\u001b[0m     loss [1000]          : (-0.5526820421218872, 0.3930189311504364)\n",
            "\u001b[1;38;5;39mCOMET INFO:\u001b[0m   Uploads:\n",
            "\u001b[1;38;5;39mCOMET INFO:\u001b[0m     environment details : 1\n",
            "\u001b[1;38;5;39mCOMET INFO:\u001b[0m     filename            : 1\n",
            "\u001b[1;38;5;39mCOMET INFO:\u001b[0m     installed packages  : 1\n",
            "\u001b[1;38;5;39mCOMET INFO:\u001b[0m     model graph         : 1\n",
            "\u001b[1;38;5;39mCOMET INFO:\u001b[0m     notebook            : 2\n",
            "\u001b[1;38;5;39mCOMET INFO:\u001b[0m     os packages         : 1\n",
            "\u001b[1;38;5;39mCOMET INFO:\u001b[0m     source_code         : 1\n",
            "\u001b[1;38;5;39mCOMET INFO:\u001b[0m \n",
            "\u001b[1;38;5;39mCOMET INFO:\u001b[0m Uploading 8056 metrics, params and output messages\n"
          ]
        }
      ],
      "source": [
        "from comet_ml.integration.gymnasium import CometLogger\n",
        "from stable_baselines3 import A2C\n",
        "from stable_baselines3.common.env_util import make_vec_env\n",
        "import gymnasium as gym\n",
        "from gymnasium.wrappers import TransformReward\n",
        "\n",
        "env = gym.make(\"Taxi-v3\", render_mode = \"rgb_array\")\n",
        "#env = make_vec_env(\"Taxi-v3\", n_envs=4, seed=0)\n",
        "\n",
        "# Uncomment if you want to Upload Videos of your environment to Comet\n",
        "#env = gym.wrappers.RecordVideo(env, 'test')\n",
        "\n",
        "experiment = comet_ml.Experiment()\n",
        "\n",
        "env = CometLogger(env, experiment)\n",
        "\n",
        "model = A2C(\"MlpPolicy\", env, verbose=0)\n",
        "model.learn(total_timesteps=50000,  progress_bar=True)\n",
        "\n",
        "env.close()\n",
        "experiment.end()"
      ]
    },
    {
      "cell_type": "markdown",
      "metadata": {
        "id": "7-1XGral4yl_"
      },
      "source": [
        "# Train an Agent using StableBaselines3 PPO Algorithm"
      ]
    },
    {
      "cell_type": "code",
      "execution_count": null,
      "metadata": {
        "colab": {
          "base_uri": "https://localhost:8080/",
          "height": 1000
        },
        "id": "gJRutvZm4ymA",
        "outputId": "c5bd1fd8-bf12-471c-b4f2-e8a1ddf4dea8"
      },
      "outputs": [
        {
          "output_type": "stream",
          "name": "stderr",
          "text": [
            "/usr/local/lib/python3.10/dist-packages/gymnasium/wrappers/record_video.py:94: UserWarning: \u001b[33mWARN: Overwriting existing videos at /content/test folder (try specifying a different `video_folder` for the `RecordVideo` wrapper if this is not desired)\u001b[0m\n",
            "  logger.warn(\n",
            "\u001b[1;38;5;39mCOMET INFO:\u001b[0m ---------------------------------------------------------------------------------------\n",
            "\u001b[1;38;5;39mCOMET INFO:\u001b[0m Comet.ml Experiment Summary\n",
            "\u001b[1;38;5;39mCOMET INFO:\u001b[0m ---------------------------------------------------------------------------------------\n",
            "\u001b[1;38;5;39mCOMET INFO:\u001b[0m   Data:\n",
            "\u001b[1;38;5;39mCOMET INFO:\u001b[0m     display_summary_level : 1\n",
            "\u001b[1;38;5;39mCOMET INFO:\u001b[0m     url                   : https://www.comet.com/campiao/comet-examples-gymnasium-notebook/cf8d3b74f2b34a04a980e04d0c4310df\n",
            "\u001b[1;38;5;39mCOMET INFO:\u001b[0m   Others:\n",
            "\u001b[1;38;5;39mCOMET INFO:\u001b[0m     Created from : gymnasium\n",
            "\u001b[1;38;5;39mCOMET INFO:\u001b[0m   Uploads:\n",
            "\u001b[1;38;5;214mCOMET WARNING:\u001b[0m As you are running in a Jupyter environment, you will need to call `experiment.end()` when finished to ensure all metrics and code are logged before exiting.\n",
            "\u001b[1;38;5;39mCOMET INFO:\u001b[0m Couldn't find a Git repository in '/content' nor in any parent directory. Set `COMET_GIT_DIRECTORY` if your Git Repository is elsewhere.\n",
            "\u001b[1;38;5;39mCOMET INFO:\u001b[0m Experiment is live on comet.com https://www.comet.com/campiao/comet-examples-gymnasium-notebook/9587977b7b9d4b468447101c71167bab\n",
            "\n"
          ]
        },
        {
          "output_type": "stream",
          "name": "stdout",
          "text": [
            "Moviepy - Building video /content/test/rl-video-episode-0.mp4.\n",
            "Moviepy - Writing video /content/test/rl-video-episode-0.mp4\n",
            "\n"
          ]
        },
        {
          "output_type": "stream",
          "name": "stderr",
          "text": [
            "\n",
            "\n",
            "t:   0%|          | 0/34 [00:00<?, ?it/s, now=None]\u001b[A\u001b[A\n",
            "\n",
            "t:   9%|▉         | 3/34 [00:00<00:01, 26.16it/s, now=None]\u001b[A\u001b[A\n",
            "\n",
            "t:  85%|████████▌ | 29/34 [00:00<00:00, 154.88it/s, now=None]\u001b[A\u001b[A\n",
            "\n",
            "                                                             "
          ]
        },
        {
          "output_type": "stream",
          "name": "stdout",
          "text": [
            "Moviepy - Done !\n",
            "Moviepy - video ready /content/test/rl-video-episode-0.mp4\n",
            "Moviepy - Building video /content/test/rl-video-episode-1.mp4.\n",
            "Moviepy - Writing video /content/test/rl-video-episode-1.mp4\n",
            "\n"
          ]
        },
        {
          "output_type": "stream",
          "name": "stderr",
          "text": [
            "\n",
            "\n",
            "t:   0%|          | 0/26 [00:00<?, ?it/s, now=None]\u001b[A\u001b[A\n",
            "\n",
            "                                                   \u001b[A\u001b[A"
          ]
        },
        {
          "output_type": "stream",
          "name": "stdout",
          "text": [
            "Moviepy - Done !\n",
            "Moviepy - video ready /content/test/rl-video-episode-1.mp4\n",
            "Moviepy - Building video /content/test/rl-video-episode-8.mp4.\n",
            "Moviepy - Writing video /content/test/rl-video-episode-8.mp4\n",
            "\n"
          ]
        },
        {
          "output_type": "stream",
          "name": "stderr",
          "text": [
            "\n",
            "\n",
            "t:   0%|          | 0/20 [00:00<?, ?it/s, now=None]\u001b[A\u001b[A\n",
            "\n",
            "                                                   \u001b[A\u001b[A"
          ]
        },
        {
          "output_type": "stream",
          "name": "stdout",
          "text": [
            "Moviepy - Done !\n",
            "Moviepy - video ready /content/test/rl-video-episode-8.mp4\n",
            "Moviepy - Building video /content/test/rl-video-episode-27.mp4.\n",
            "Moviepy - Writing video /content/test/rl-video-episode-27.mp4\n",
            "\n"
          ]
        },
        {
          "output_type": "stream",
          "name": "stderr",
          "text": [
            "\n",
            "\n",
            "t:   0%|          | 0/13 [00:00<?, ?it/s, now=None]\u001b[A\u001b[A\n",
            "\n",
            "                                                   \u001b[A\u001b[A"
          ]
        },
        {
          "output_type": "stream",
          "name": "stdout",
          "text": [
            "Moviepy - Done !\n",
            "Moviepy - video ready /content/test/rl-video-episode-27.mp4\n"
          ]
        },
        {
          "output_type": "stream",
          "name": "stderr",
          "text": [
            "\n",
            "\n",
            "                                                   \u001b[A\u001b[A"
          ]
        },
        {
          "output_type": "stream",
          "name": "stdout",
          "text": [
            "Moviepy - Done !\n",
            "Moviepy - video ready /content/test/rl-video-episode-64.mp4\n"
          ]
        },
        {
          "output_type": "stream",
          "name": "stderr",
          "text": [
            "\rt:   0%|          | 0/14 [00:00<?, ?it/s, now=None]\u001b[A\u001b[A\n",
            "\n",
            "                                                   \u001b[A\u001b[A"
          ]
        },
        {
          "output_type": "stream",
          "name": "stdout",
          "text": [
            "Moviepy - Done !\n",
            "Moviepy - video ready /content/test/rl-video-episode-125.mp4\n",
            "Moviepy - Building video /content/test/rl-video-episode-216.mp4.\n",
            "Moviepy - Writing video /content/test/rl-video-episode-216.mp4\n",
            "\n"
          ]
        },
        {
          "output_type": "stream",
          "name": "stderr",
          "text": [
            "\n",
            "\n",
            "t:   0%|          | 0/62 [00:00<?, ?it/s, now=None]\n",
            "\n",
            "t:  48%|████▊     | 30/62 [00:00<00:00, 299.65it/s, now=None]\u001b[A\u001b[A\n",
            "\n",
            "t:  97%|█████████▋| 60/62 [00:00<00:00, 190.83it/s, now=None]\u001b[A\u001b[A\n",
            "\n",
            "                                                             \u001b[A\u001b[A"
          ]
        },
        {
          "output_type": "stream",
          "name": "stdout",
          "text": [
            "Moviepy - Done !\n",
            "Moviepy - video ready /content/test/rl-video-episode-216.mp4\n",
            "Moviepy - Building video /content/test/rl-video-episode-343.mp4.\n",
            "Moviepy - Writing video /content/test/rl-video-episode-343.mp4\n",
            "\n"
          ]
        },
        {
          "output_type": "stream",
          "name": "stderr",
          "text": [
            "\n",
            "\n",
            "t:   0%|          | 0/501 [00:00<?, ?it/s, now=None]\u001b[A\u001b[A\u001b[A\u001b[A\n",
            "\n",
            "t:  11%|█         | 54/501 [00:00<00:02, 191.68it/s, now=None]\u001b[A\u001b[A\n",
            "\n",
            "t:  15%|█▍        | 75/501 [00:00<00:02, 180.25it/s, now=None]\u001b[A\u001b[A\n",
            "\n",
            "t:  19%|█▉        | 94/501 [00:00<00:02, 168.92it/s, now=None]\u001b[A\u001b[A\u001b[A\u001b[A\n",
            "\n",
            "t:  27%|██▋       | 136/501 [00:00<00:01, 188.01it/s, now=None]\u001b[A\u001b[A\n",
            "\n",
            "t:  31%|███       | 156/501 [00:00<00:01, 188.97it/s, now=None]\u001b[A\u001b[A\n",
            "\n",
            "t:  39%|███▉      | 197/501 [00:01<00:01, 194.25it/s, now=None]\u001b[A\u001b[A\n",
            "\n",
            "t:  44%|████▍     | 220/501 [00:01<00:01, 204.33it/s, now=None]\u001b[A\u001b[A\n",
            "\n",
            "t:  48%|████▊     | 241/501 [00:01<00:01, 199.60it/s, now=None]\u001b[A\u001b[A\n",
            "\n",
            "t:  52%|█████▏    | 262/501 [00:01<00:01, 194.33it/s, now=None]\u001b[A\u001b[A\n",
            "\n",
            "t:  56%|█████▋    | 282/501 [00:01<00:01, 181.21it/s, now=None]\u001b[A\u001b[A\n",
            "\n",
            "t:  60%|██████    | 301/501 [00:01<00:01, 164.39it/s, now=None]\u001b[A\u001b[A\n",
            "\n",
            "t:  63%|██████▎   | 318/501 [00:01<00:01, 149.49it/s, now=None]\u001b[A\u001b[A\n",
            "\n",
            "t:  67%|██████▋   | 334/501 [00:01<00:01, 145.12it/s, now=None]\u001b[A\u001b[A\n",
            "\n",
            "t:  70%|██████▉   | 349/501 [00:02<00:01, 132.91it/s, now=None]\u001b[A\u001b[A\n",
            "\n",
            "t:  72%|███████▏  | 363/501 [00:02<00:01, 130.93it/s, now=None]\u001b[A\u001b[A\n",
            "\n",
            "t:  75%|███████▌  | 377/501 [00:02<00:01, 123.33it/s, now=None]\u001b[A\u001b[A\n",
            "\n",
            "t:  78%|███████▊  | 390/501 [00:02<00:00, 120.45it/s, now=None]\u001b[A\u001b[A\n",
            "\n",
            "t:  80%|████████  | 403/501 [00:02<00:00, 115.75it/s, now=None]\u001b[A\u001b[A\n",
            "\n",
            "t:  83%|████████▎ | 415/501 [00:02<00:00, 112.15it/s, now=None]\u001b[A\u001b[A\n",
            "\n",
            "t:  87%|████████▋ | 438/501 [00:02<00:00, 104.83it/s, now=None]\u001b[A\u001b[A\n",
            "\n",
            "t:  90%|█████████ | 452/501 [00:03<00:00, 103.28it/s, now=None]\u001b[A\u001b[A\n",
            "\n",
            "t:  95%|█████████▌| 477/501 [00:03<00:00, 111.70it/s, now=None]\u001b[A\u001b[A\n",
            "\n",
            "t:  98%|█████████▊| 489/501 [00:03<00:00, 110.32it/s, now=None]\u001b[A\u001b[A\n",
            "\n",
            "t: 100%|██████████| 501/501 [00:03<00:00, 110.02it/s, now=None]\u001b[A\u001b[A\n",
            "\n",
            "                                                               \u001b[A\u001b[A"
          ]
        },
        {
          "output_type": "stream",
          "name": "stdout",
          "text": [
            "Moviepy - Done !\n",
            "Moviepy - video ready /content/test/rl-video-episode-343.mp4\n"
          ]
        },
        {
          "output_type": "stream",
          "name": "stderr",
          "text": [
            "\u001b[1;38;5;214mCOMET WARNING:\u001b[0m The default value for the log_file_name parameter will change from False to True in a future version. Explicitly pass log_file_name=True or log_file_name=False to disable this warning\n",
            "\u001b[1;38;5;39mCOMET INFO:\u001b[0m ---------------------------------------------------------------------------------------\n",
            "\u001b[1;38;5;39mCOMET INFO:\u001b[0m Comet.ml Experiment Summary\n",
            "\u001b[1;38;5;39mCOMET INFO:\u001b[0m ---------------------------------------------------------------------------------------\n",
            "\u001b[1;38;5;39mCOMET INFO:\u001b[0m   Data:\n",
            "\u001b[1;38;5;39mCOMET INFO:\u001b[0m     display_summary_level : 1\n",
            "\u001b[1;38;5;39mCOMET INFO:\u001b[0m     url                   : https://www.comet.com/campiao/comet-examples-gymnasium-notebook/9587977b7b9d4b468447101c71167bab\n",
            "\u001b[1;38;5;39mCOMET INFO:\u001b[0m   Metrics [count] (min, max):\n",
            "\u001b[1;38;5;39mCOMET INFO:\u001b[0m     episode_length [475] : (10, 500)\n",
            "\u001b[1;38;5;39mCOMET INFO:\u001b[0m     episode_reward [475] : (10.0, 500.0)\n",
            "\u001b[1;38;5;39mCOMET INFO:\u001b[0m     loss [1568]          : (-0.0305530596524477, 69.24143981933594)\n",
            "\u001b[1;38;5;39mCOMET INFO:\u001b[0m   Uploads:\n",
            "\u001b[1;38;5;39mCOMET INFO:\u001b[0m     asset               : 16 (66.09 KB)\n",
            "\u001b[1;38;5;39mCOMET INFO:\u001b[0m     environment details : 1\n",
            "\u001b[1;38;5;39mCOMET INFO:\u001b[0m     filename            : 1\n",
            "\u001b[1;38;5;39mCOMET INFO:\u001b[0m     installed packages  : 1\n",
            "\u001b[1;38;5;39mCOMET INFO:\u001b[0m     notebook            : 2\n",
            "\u001b[1;38;5;39mCOMET INFO:\u001b[0m     os packages         : 1\n",
            "\u001b[1;38;5;39mCOMET INFO:\u001b[0m     source_code         : 1\n",
            "\u001b[1;38;5;39mCOMET INFO:\u001b[0m \n"
          ]
        }
      ],
      "source": [
        "from stable_baselines3 import PPO\n",
        "\n",
        "env = gym.make('CartPole-v1', render_mode=\"rgb_array\")\n",
        "\n",
        "# Uncomment if you want to Upload Videos of your environment to Comet\n",
        "env = gym.wrappers.RecordVideo(env, 'test')\n",
        "\n",
        "experiment = comet_ml.Experiment()\n",
        "\n",
        "env = CometLogger(env, experiment)\n",
        "\n",
        "model = PPO(\"MlpPolicy\", env, verbose=0)\n",
        "model.learn(total_timesteps=100000)\n",
        "\n",
        "env.close()\n",
        "experiment.end()"
      ]
    },
    {
      "cell_type": "markdown",
      "metadata": {
        "id": "Zwbd9LfT4ymB"
      },
      "source": [
        "# Use Comet's UI to Benchmark Different RL Algorithims"
      ]
    },
    {
      "cell_type": "code",
      "execution_count": null,
      "metadata": {
        "id": "B9FsSTLG4ymB"
      },
      "outputs": [],
      "source": [
        "experiment.display()"
      ]
    }
  ],
  "metadata": {
    "colab": {
      "provenance": [],
      "include_colab_link": true
    },
    "kernelspec": {
      "display_name": "Python 3 (ipykernel)",
      "language": "python",
      "name": "python3"
    },
    "language_info": {
      "codemirror_mode": {
        "name": "ipython",
        "version": 3
      },
      "file_extension": ".py",
      "mimetype": "text/x-python",
      "name": "python",
      "nbconvert_exporter": "python",
      "pygments_lexer": "ipython3",
      "version": "3.10.12"
    },
    "vscode": {
      "interpreter": {
        "hash": "8c9587381b2341d562742e36a89690be32a732b11830813473890249dd40a07d"
      }
    },
    "widgets": {
      "application/vnd.jupyter.widget-state+json": {
        "4b88f5dec49e4cf4b89b6eae2c670ec2": {
          "model_module": "@jupyter-widgets/output",
          "model_name": "OutputModel",
          "model_module_version": "1.0.0",
          "state": {
            "_dom_classes": [],
            "_model_module": "@jupyter-widgets/output",
            "_model_module_version": "1.0.0",
            "_model_name": "OutputModel",
            "_view_count": null,
            "_view_module": "@jupyter-widgets/output",
            "_view_module_version": "1.0.0",
            "_view_name": "OutputView",
            "layout": "IPY_MODEL_bf25fb6aa76a469da93b173e3885e3e1",
            "msg_id": "",
            "outputs": [
              {
                "output_type": "display_data",
                "data": {
                  "text/plain": "\u001b[35m 100%\u001b[0m \u001b[38;2;249;38;114m━━━━━━━━━━━━━━━━━━━━━━━━━━━━━━━━━━━━━━━━━━━━━━━━━━━━━━━━━━━━\u001b[0m\u001b[38;2;249;38;114m╸\u001b[0m \u001b[32m49,956/50,000 \u001b[0m [ \u001b[33m0:01:48\u001b[0m < \u001b[36m0:00:01\u001b[0m , \u001b[31m450 it/s\u001b[0m ]\n",
                  "text/html": "<pre style=\"white-space:pre;overflow-x:auto;line-height:normal;font-family:Menlo,'DejaVu Sans Mono',consolas,'Courier New',monospace\"><span style=\"color: #800080; text-decoration-color: #800080\"> 100%</span> <span style=\"color: #f92672; text-decoration-color: #f92672\">━━━━━━━━━━━━━━━━━━━━━━━━━━━━━━━━━━━━━━━━━━━━━━━━━━━━━━━━━━━━╸</span> <span style=\"color: #008000; text-decoration-color: #008000\">49,956/50,000 </span> [ <span style=\"color: #808000; text-decoration-color: #808000\">0:01:48</span> &lt; <span style=\"color: #008080; text-decoration-color: #008080\">0:00:01</span> , <span style=\"color: #800000; text-decoration-color: #800000\">450 it/s</span> ]\n</pre>\n"
                },
                "metadata": {}
              }
            ]
          }
        },
        "bf25fb6aa76a469da93b173e3885e3e1": {
          "model_module": "@jupyter-widgets/base",
          "model_name": "LayoutModel",
          "model_module_version": "1.2.0",
          "state": {
            "_model_module": "@jupyter-widgets/base",
            "_model_module_version": "1.2.0",
            "_model_name": "LayoutModel",
            "_view_count": null,
            "_view_module": "@jupyter-widgets/base",
            "_view_module_version": "1.2.0",
            "_view_name": "LayoutView",
            "align_content": null,
            "align_items": null,
            "align_self": null,
            "border": null,
            "bottom": null,
            "display": null,
            "flex": null,
            "flex_flow": null,
            "grid_area": null,
            "grid_auto_columns": null,
            "grid_auto_flow": null,
            "grid_auto_rows": null,
            "grid_column": null,
            "grid_gap": null,
            "grid_row": null,
            "grid_template_areas": null,
            "grid_template_columns": null,
            "grid_template_rows": null,
            "height": null,
            "justify_content": null,
            "justify_items": null,
            "left": null,
            "margin": null,
            "max_height": null,
            "max_width": null,
            "min_height": null,
            "min_width": null,
            "object_fit": null,
            "object_position": null,
            "order": null,
            "overflow": null,
            "overflow_x": null,
            "overflow_y": null,
            "padding": null,
            "right": null,
            "top": null,
            "visibility": null,
            "width": null
          }
        }
      }
    }
  },
  "nbformat": 4,
  "nbformat_minor": 0
}