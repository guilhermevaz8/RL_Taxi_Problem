{
 "cells": [
  {
   "cell_type": "markdown",
   "metadata": {
    "colab_type": "text",
    "id": "view-in-github"
   },
   "source": [
    "<a href=\"https://colab.research.google.com/github/guilhermevaz8/RL_Taxi_Problem/blob/main/Hyperparam.ipynb\" target=\"_parent\"><img src=\"https://colab.research.google.com/assets/colab-badge.svg\" alt=\"Open In Colab\"/></a>"
   ]
  },
  {
   "cell_type": "code",
   "execution_count": 1,
   "metadata": {
    "colab": {
     "base_uri": "https://localhost:8080/"
    },
    "id": "xPyCs1iPQCW_",
    "outputId": "7608f579-16c4-4e1b-df9f-6879d8326fb5"
   },
   "outputs": [
    {
     "name": "stdout",
     "output_type": "stream",
     "text": [
      "/usr/lib/python3/dist-packages/secretstorage/dhcrypto.py:15: CryptographyDeprecationWarning: int_from_bytes is deprecated, use int.from_bytes instead\n",
      "  from cryptography.utils import int_from_bytes\n",
      "/usr/lib/python3/dist-packages/secretstorage/util.py:19: CryptographyDeprecationWarning: int_from_bytes is deprecated, use int.from_bytes instead\n",
      "  from cryptography.utils import int_from_bytes\n",
      "Requirement already satisfied: gymnasium in /home/guilherme/.local/lib/python3.8/site-packages (0.29.1)\n",
      "/home/guilherme/.local/lib/python3.8/site-packages/cryptography/hazmat/backends/openssl/x509.py:14: CryptographyDeprecationWarning: This version of cryptography contains a temporary pyOpenSSL fallback path. Upgrade pyOpenSSL now.\n",
      "  warnings.warn(\n",
      "Collecting comet_ml\n",
      "  Downloading comet_ml-3.35.5-py3-none-any.whl (586 kB)\n",
      "\u001b[K     |████████████████████████████████| 586 kB 881 kB/s eta 0:00:01\n",
      "\u001b[?25hRequirement already satisfied: stable-baselines3 in /home/guilherme/.local/lib/python3.8/site-packages (2.2.1)\n",
      "Collecting sb3_contrib\n",
      "  Downloading sb3_contrib-2.2.1-py3-none-any.whl (80 kB)\n",
      "\u001b[K     |████████████████████████████████| 80 kB 1.9 MB/s eta 0:00:01\n",
      "\u001b[?25hRequirement already satisfied: typing-extensions>=4.3.0 in /home/guilherme/.local/lib/python3.8/site-packages (from gymnasium) (4.4.0)\n",
      "Requirement already satisfied: farama-notifications>=0.0.1 in /home/guilherme/.local/lib/python3.8/site-packages (from gymnasium) (0.0.4)\n",
      "Requirement already satisfied: cloudpickle>=1.2.0 in /home/guilherme/.local/lib/python3.8/site-packages (from gymnasium) (3.0.0)\n",
      "Requirement already satisfied: numpy>=1.21.0 in /home/guilherme/.local/lib/python3.8/site-packages (from gymnasium) (1.22.0)\n",
      "Requirement already satisfied: importlib-metadata>=4.8.0; python_version < \"3.10\" in /usr/local/lib/python3.8/dist-packages (from gymnasium) (5.2.0)\n",
      "Collecting sentry-sdk>=1.1.0\n",
      "  Downloading sentry_sdk-1.39.1-py2.py3-none-any.whl (254 kB)\n",
      "\u001b[K     |████████████████████████████████| 254 kB 942 kB/s eta 0:00:01\n",
      "\u001b[?25hRequirement already satisfied: wrapt>=1.11.2 in /home/guilherme/.local/lib/python3.8/site-packages (from comet_ml) (1.14.1)\n",
      "Requirement already satisfied: requests-toolbelt>=0.8.0 in /home/guilherme/.local/lib/python3.8/site-packages (from comet_ml) (0.9.1)\n",
      "Requirement already satisfied: psutil>=5.6.3 in /home/guilherme/.local/lib/python3.8/site-packages (from comet_ml) (5.9.4)\n",
      "Collecting wurlitzer>=1.0.2\n",
      "  Downloading wurlitzer-3.0.3-py3-none-any.whl (7.3 kB)\n",
      "Requirement already satisfied: semantic-version>=2.8.0 in /home/guilherme/.local/lib/python3.8/site-packages (from comet_ml) (2.10.0)\n",
      "Requirement already satisfied: six in /usr/lib/python3/dist-packages (from comet_ml) (1.14.0)\n",
      "Requirement already satisfied: jsonschema!=3.1.0,>=2.6.0 in /home/guilherme/.local/lib/python3.8/site-packages (from comet_ml) (4.17.3)\n",
      "Requirement already satisfied: requests>=2.18.4 in /home/guilherme/.local/lib/python3.8/site-packages (from comet_ml) (2.28.2)\n",
      "Requirement already satisfied: simplejson in /usr/lib/python3/dist-packages (from comet_ml) (3.16.0)\n",
      "Requirement already satisfied: urllib3>=1.21.1 in /usr/lib/python3/dist-packages (from comet_ml) (1.25.8)\n",
      "Collecting dulwich!=0.20.33,>=0.20.6; python_version >= \"3.0\"\n",
      "  Downloading dulwich-0.21.7-cp38-cp38-manylinux_2_17_x86_64.manylinux2014_x86_64.whl (516 kB)\n",
      "\u001b[K     |████████████████████████████████| 516 kB 1.1 MB/s eta 0:00:01\n",
      "\u001b[?25hCollecting rich>=13.3.2; python_version >= \"3.7.0\"\n",
      "  Downloading rich-13.7.0-py3-none-any.whl (240 kB)\n",
      "\u001b[K     |████████████████████████████████| 240 kB 1.2 MB/s eta 0:00:01\n",
      "\u001b[?25hCollecting everett[ini]<3.2.0,>=1.0.1; python_version > \"3.5\"\n",
      "  Downloading everett-3.1.0-py2.py3-none-any.whl (35 kB)\n",
      "Collecting python-box<7.0.0\n",
      "  Downloading python_box-6.1.0-cp38-cp38-manylinux_2_17_x86_64.manylinux2014_x86_64.whl (3.5 MB)\n",
      "\u001b[K     |████████████████████████████████| 3.5 MB 899 kB/s eta 0:00:01\n",
      "\u001b[?25hCollecting websocket-client<1.4.0,>=0.55.0\n",
      "  Downloading websocket_client-1.3.3-py3-none-any.whl (54 kB)\n",
      "\u001b[K     |████████████████████████████████| 54 kB 1.3 MB/s eta 0:00:01\n",
      "\u001b[?25hRequirement already satisfied: pandas in /home/guilherme/.local/lib/python3.8/site-packages (from stable-baselines3) (1.5.3)\n",
      "Requirement already satisfied: torch>=1.13 in /home/guilherme/.local/lib/python3.8/site-packages (from stable-baselines3) (2.0.0)\n",
      "Requirement already satisfied: matplotlib in /home/guilherme/.local/lib/python3.8/site-packages (from stable-baselines3) (3.7.1)\n",
      "Requirement already satisfied: zipp>=0.5 in /home/guilherme/.local/lib/python3.8/site-packages (from importlib-metadata>=4.8.0; python_version < \"3.10\"->gymnasium) (3.15.0)\n",
      "Requirement already satisfied: certifi in /usr/lib/python3/dist-packages (from sentry-sdk>=1.1.0->comet_ml) (2019.11.28)\n",
      "Requirement already satisfied: attrs>=17.4.0 in /usr/lib/python3/dist-packages (from jsonschema!=3.1.0,>=2.6.0->comet_ml) (19.3.0)\n",
      "Requirement already satisfied: importlib-resources>=1.4.0; python_version < \"3.9\" in /home/guilherme/.local/lib/python3.8/site-packages (from jsonschema!=3.1.0,>=2.6.0->comet_ml) (5.10.2)\n",
      "Requirement already satisfied: pyrsistent!=0.17.0,!=0.17.1,!=0.17.2,>=0.14.0 in /usr/lib/python3/dist-packages (from jsonschema!=3.1.0,>=2.6.0->comet_ml) (0.15.5)\n",
      "Requirement already satisfied: pkgutil-resolve-name>=1.3.10; python_version < \"3.9\" in /home/guilherme/.local/lib/python3.8/site-packages (from jsonschema!=3.1.0,>=2.6.0->comet_ml) (1.3.10)\n",
      "Requirement already satisfied: charset-normalizer<4,>=2 in /home/guilherme/.local/lib/python3.8/site-packages (from requests>=2.18.4->comet_ml) (3.0.1)\n",
      "Requirement already satisfied: idna<4,>=2.5 in /usr/lib/python3/dist-packages (from requests>=2.18.4->comet_ml) (2.8)\n",
      "Requirement already satisfied: markdown-it-py>=2.2.0 in /home/guilherme/.local/lib/python3.8/site-packages (from rich>=13.3.2; python_version >= \"3.7.0\"->comet_ml) (2.2.0)\n",
      "Requirement already satisfied: pygments<3.0.0,>=2.13.0 in /home/guilherme/.local/lib/python3.8/site-packages (from rich>=13.3.2; python_version >= \"3.7.0\"->comet_ml) (2.13.0)\n",
      "Requirement already satisfied: configobj; extra == \"ini\" in /usr/lib/python3/dist-packages (from everett[ini]<3.2.0,>=1.0.1; python_version > \"3.5\"->comet_ml) (5.0.6)\n",
      "Requirement already satisfied: python-dateutil>=2.8.1 in /home/guilherme/.local/lib/python3.8/site-packages (from pandas->stable-baselines3) (2.8.2)\n",
      "Requirement already satisfied: pytz>=2020.1 in /home/guilherme/.local/lib/python3.8/site-packages (from pandas->stable-baselines3) (2022.1)\n",
      "Requirement already satisfied: nvidia-cudnn-cu11==8.5.0.96; platform_system == \"Linux\" and platform_machine == \"x86_64\" in /home/guilherme/.local/lib/python3.8/site-packages (from torch>=1.13->stable-baselines3) (8.5.0.96)\n",
      "Requirement already satisfied: triton==2.0.0; platform_system == \"Linux\" and platform_machine == \"x86_64\" in /home/guilherme/.local/lib/python3.8/site-packages (from torch>=1.13->stable-baselines3) (2.0.0)\n",
      "Requirement already satisfied: nvidia-cuda-runtime-cu11==11.7.99; platform_system == \"Linux\" and platform_machine == \"x86_64\" in /home/guilherme/.local/lib/python3.8/site-packages (from torch>=1.13->stable-baselines3) (11.7.99)\n",
      "Requirement already satisfied: nvidia-curand-cu11==10.2.10.91; platform_system == \"Linux\" and platform_machine == \"x86_64\" in /home/guilherme/.local/lib/python3.8/site-packages (from torch>=1.13->stable-baselines3) (10.2.10.91)\n",
      "Requirement already satisfied: jinja2 in /home/guilherme/.local/lib/python3.8/site-packages (from torch>=1.13->stable-baselines3) (3.0.3)\n",
      "Requirement already satisfied: nvidia-cusparse-cu11==11.7.4.91; platform_system == \"Linux\" and platform_machine == \"x86_64\" in /home/guilherme/.local/lib/python3.8/site-packages (from torch>=1.13->stable-baselines3) (11.7.4.91)\n",
      "Requirement already satisfied: nvidia-cufft-cu11==10.9.0.58; platform_system == \"Linux\" and platform_machine == \"x86_64\" in /home/guilherme/.local/lib/python3.8/site-packages (from torch>=1.13->stable-baselines3) (10.9.0.58)\n",
      "Requirement already satisfied: sympy in /home/guilherme/.local/lib/python3.8/site-packages (from torch>=1.13->stable-baselines3) (1.11.1)\n",
      "Requirement already satisfied: networkx in /home/guilherme/.local/lib/python3.8/site-packages (from torch>=1.13->stable-baselines3) (3.0)\n",
      "Requirement already satisfied: nvidia-nccl-cu11==2.14.3; platform_system == \"Linux\" and platform_machine == \"x86_64\" in /home/guilherme/.local/lib/python3.8/site-packages (from torch>=1.13->stable-baselines3) (2.14.3)\n",
      "Requirement already satisfied: nvidia-nvtx-cu11==11.7.91; platform_system == \"Linux\" and platform_machine == \"x86_64\" in /home/guilherme/.local/lib/python3.8/site-packages (from torch>=1.13->stable-baselines3) (11.7.91)\n",
      "Requirement already satisfied: nvidia-cuda-nvrtc-cu11==11.7.99; platform_system == \"Linux\" and platform_machine == \"x86_64\" in /home/guilherme/.local/lib/python3.8/site-packages (from torch>=1.13->stable-baselines3) (11.7.99)\n",
      "Requirement already satisfied: nvidia-cuda-cupti-cu11==11.7.101; platform_system == \"Linux\" and platform_machine == \"x86_64\" in /home/guilherme/.local/lib/python3.8/site-packages (from torch>=1.13->stable-baselines3) (11.7.101)\n",
      "Requirement already satisfied: nvidia-cublas-cu11==11.10.3.66; platform_system == \"Linux\" and platform_machine == \"x86_64\" in /home/guilherme/.local/lib/python3.8/site-packages (from torch>=1.13->stable-baselines3) (11.10.3.66)\n",
      "Requirement already satisfied: nvidia-cusolver-cu11==11.4.0.1; platform_system == \"Linux\" and platform_machine == \"x86_64\" in /home/guilherme/.local/lib/python3.8/site-packages (from torch>=1.13->stable-baselines3) (11.4.0.1)\n",
      "Requirement already satisfied: filelock in /home/guilherme/.local/lib/python3.8/site-packages (from torch>=1.13->stable-baselines3) (3.10.2)\n",
      "Requirement already satisfied: contourpy>=1.0.1 in /home/guilherme/.local/lib/python3.8/site-packages (from matplotlib->stable-baselines3) (1.0.7)\n"
     ]
    },
    {
     "name": "stdout",
     "output_type": "stream",
     "text": [
      "Requirement already satisfied: pyparsing>=2.3.1 in /home/guilherme/.local/lib/python3.8/site-packages (from matplotlib->stable-baselines3) (3.0.9)\n",
      "Requirement already satisfied: packaging>=20.0 in /home/guilherme/.local/lib/python3.8/site-packages (from matplotlib->stable-baselines3) (23.0)\n",
      "Requirement already satisfied: cycler>=0.10 in /home/guilherme/.local/lib/python3.8/site-packages (from matplotlib->stable-baselines3) (0.11.0)\n",
      "Requirement already satisfied: fonttools>=4.22.0 in /home/guilherme/.local/lib/python3.8/site-packages (from matplotlib->stable-baselines3) (4.39.2)\n",
      "Requirement already satisfied: pillow>=6.2.0 in /home/guilherme/.local/lib/python3.8/site-packages (from matplotlib->stable-baselines3) (9.4.0)\n",
      "Requirement already satisfied: kiwisolver>=1.0.1 in /home/guilherme/.local/lib/python3.8/site-packages (from matplotlib->stable-baselines3) (1.4.4)\n",
      "Requirement already satisfied: mdurl~=0.1 in /home/guilherme/.local/lib/python3.8/site-packages (from markdown-it-py>=2.2.0->rich>=13.3.2; python_version >= \"3.7.0\"->comet_ml) (0.1.2)\n",
      "Requirement already satisfied: lit in /home/guilherme/.local/lib/python3.8/site-packages (from triton==2.0.0; platform_system == \"Linux\" and platform_machine == \"x86_64\"->torch>=1.13->stable-baselines3) (16.0.0)\n",
      "Requirement already satisfied: cmake in /home/guilherme/.local/lib/python3.8/site-packages (from triton==2.0.0; platform_system == \"Linux\" and platform_machine == \"x86_64\"->torch>=1.13->stable-baselines3) (3.26.0)\n",
      "Requirement already satisfied: wheel in /usr/lib/python3/dist-packages (from nvidia-cuda-runtime-cu11==11.7.99; platform_system == \"Linux\" and platform_machine == \"x86_64\"->torch>=1.13->stable-baselines3) (0.34.2)\n",
      "Requirement already satisfied: setuptools in /usr/lib/python3/dist-packages (from nvidia-cuda-runtime-cu11==11.7.99; platform_system == \"Linux\" and platform_machine == \"x86_64\"->torch>=1.13->stable-baselines3) (45.2.0)\n",
      "Requirement already satisfied: MarkupSafe>=2.0 in /home/guilherme/.local/lib/python3.8/site-packages (from jinja2->torch>=1.13->stable-baselines3) (2.1.2)\n",
      "Requirement already satisfied: mpmath>=0.19 in /home/guilherme/.local/lib/python3.8/site-packages (from sympy->torch>=1.13->stable-baselines3) (1.3.0)\n",
      "\u001b[31mERROR: sentry-sdk 1.39.1 has requirement urllib3>=1.26.11; python_version >= \"3.6\", but you'll have urllib3 1.25.8 which is incompatible.\u001b[0m\n",
      "Installing collected packages: sentry-sdk, wurlitzer, dulwich, rich, everett, python-box, websocket-client, comet-ml, sb3-contrib\n",
      "  Attempting uninstall: rich\n",
      "    Found existing installation: rich 12.6.0\n",
      "    Uninstalling rich-12.6.0:\n",
      "      Successfully uninstalled rich-12.6.0\n",
      "  Attempting uninstall: websocket-client\n",
      "    Found existing installation: websocket-client 1.5.0\n",
      "    Uninstalling websocket-client-1.5.0:\n",
      "      Successfully uninstalled websocket-client-1.5.0\n",
      "Successfully installed comet-ml-3.35.5 dulwich-0.21.7 everett-3.1.0 python-box-6.1.0 rich-13.7.0 sb3-contrib-2.2.1 sentry-sdk-1.39.1 websocket-client-1.3.3 wurlitzer-3.0.3\n",
      "Note: you may need to restart the kernel to use updated packages.\n"
     ]
    }
   ],
   "source": [
    "%pip install gymnasium comet_ml stable-baselines3 sb3_contrib"
   ]
  },
  {
   "cell_type": "code",
   "execution_count": 3,
   "metadata": {
    "colab": {
     "base_uri": "https://localhost:8080/"
    },
    "id": "wenEEix_QJ1Y",
    "outputId": "b4be1343-2062-4e26-a5b5-9675d8074948"
   },
   "outputs": [
    {
     "name": "stdout",
     "output_type": "stream",
     "text": [
      "Please paste your Comet API key from https://www.comet.com/api/my/settings/\n",
      "(api key may not show as you type)\n",
      "Comet API key: ········\n"
     ]
    },
    {
     "name": "stderr",
     "output_type": "stream",
     "text": [
      "\u001b[1;38;5;39mCOMET INFO:\u001b[0m Valid Comet API Key saved in /home/guilherme/.comet.config (set COMET_CONFIG to change where it is saved).\n"
     ]
    }
   ],
   "source": [
    "import comet_ml\n",
    "\n",
    "comet_ml.init(project_name=\"comet-examples-gymnasium-notebook\")"
   ]
  },
  {
   "cell_type": "code",
   "execution_count": 4,
   "metadata": {
    "colab": {
     "base_uri": "https://localhost:8080/"
    },
    "id": "eC8px8J0Q3ju",
    "outputId": "1feb78cc-2b35-43af-8fd4-4888db326af9"
   },
   "outputs": [
    {
     "name": "stdout",
     "output_type": "stream",
     "text": [
      "/usr/lib/python3/dist-packages/secretstorage/dhcrypto.py:15: CryptographyDeprecationWarning: int_from_bytes is deprecated, use int.from_bytes instead\n",
      "  from cryptography.utils import int_from_bytes\n",
      "/usr/lib/python3/dist-packages/secretstorage/util.py:19: CryptographyDeprecationWarning: int_from_bytes is deprecated, use int.from_bytes instead\n",
      "  from cryptography.utils import int_from_bytes\n",
      "/home/guilherme/.local/lib/python3.8/site-packages/cryptography/hazmat/backends/openssl/x509.py:14: CryptographyDeprecationWarning: This version of cryptography contains a temporary pyOpenSSL fallback path. Upgrade pyOpenSSL now.\n",
      "  warnings.warn(\n",
      "Collecting ray\n",
      "  Downloading ray-2.8.1-cp38-cp38-manylinux2014_x86_64.whl (62.6 MB)\n",
      "\u001b[K     |████████████████████████████████| 62.6 MB 1.4 MB/s eta 0:00:01\n",
      "\u001b[?25hRequirement already satisfied: filelock in /home/guilherme/.local/lib/python3.8/site-packages (from ray) (3.10.2)\n",
      "Requirement already satisfied: frozenlist in /home/guilherme/.local/lib/python3.8/site-packages (from ray) (1.3.3)\n",
      "Requirement already satisfied: msgpack<2.0.0,>=1.0.0 in /home/guilherme/.local/lib/python3.8/site-packages (from ray) (1.0.7)\n",
      "Requirement already satisfied: packaging in /home/guilherme/.local/lib/python3.8/site-packages (from ray) (23.0)\n",
      "Requirement already satisfied: jsonschema in /home/guilherme/.local/lib/python3.8/site-packages (from ray) (4.17.3)\n",
      "Requirement already satisfied: pyyaml in /home/guilherme/.local/lib/python3.8/site-packages (from ray) (5.1.2)\n",
      "Requirement already satisfied: aiosignal in /home/guilherme/.local/lib/python3.8/site-packages (from ray) (1.3.1)\n",
      "Requirement already satisfied: numpy>=1.16; python_version < \"3.9\" in /home/guilherme/.local/lib/python3.8/site-packages (from ray) (1.22.0)\n",
      "Requirement already satisfied: protobuf!=3.19.5,>=3.15.3 in /home/guilherme/.local/lib/python3.8/site-packages (from ray) (4.22.1)\n",
      "Requirement already satisfied: click>=7.0 in /usr/local/lib/python3.8/dist-packages (from ray) (8.1.3)\n",
      "Requirement already satisfied: requests in /home/guilherme/.local/lib/python3.8/site-packages (from ray) (2.28.2)\n",
      "Requirement already satisfied: importlib-resources>=1.4.0; python_version < \"3.9\" in /home/guilherme/.local/lib/python3.8/site-packages (from jsonschema->ray) (5.10.2)\n",
      "Requirement already satisfied: pkgutil-resolve-name>=1.3.10; python_version < \"3.9\" in /home/guilherme/.local/lib/python3.8/site-packages (from jsonschema->ray) (1.3.10)\n",
      "Requirement already satisfied: attrs>=17.4.0 in /usr/lib/python3/dist-packages (from jsonschema->ray) (19.3.0)\n",
      "Requirement already satisfied: pyrsistent!=0.17.0,!=0.17.1,!=0.17.2,>=0.14.0 in /usr/lib/python3/dist-packages (from jsonschema->ray) (0.15.5)\n",
      "Requirement already satisfied: urllib3<1.27,>=1.21.1 in /usr/lib/python3/dist-packages (from requests->ray) (1.25.8)\n",
      "Requirement already satisfied: certifi>=2017.4.17 in /usr/lib/python3/dist-packages (from requests->ray) (2019.11.28)\n",
      "Requirement already satisfied: charset-normalizer<4,>=2 in /home/guilherme/.local/lib/python3.8/site-packages (from requests->ray) (3.0.1)\n",
      "Requirement already satisfied: idna<4,>=2.5 in /usr/lib/python3/dist-packages (from requests->ray) (2.8)\n",
      "Requirement already satisfied: zipp>=3.1.0; python_version < \"3.10\" in /home/guilherme/.local/lib/python3.8/site-packages (from importlib-resources>=1.4.0; python_version < \"3.9\"->jsonschema->ray) (3.15.0)\n",
      "Installing collected packages: ray\n",
      "Successfully installed ray-2.8.1\n",
      "Note: you may need to restart the kernel to use updated packages.\n"
     ]
    }
   ],
   "source": [
    "pip install ray"
   ]
  },
  {
   "cell_type": "code",
   "execution_count": 6,
   "metadata": {
    "colab": {
     "base_uri": "https://localhost:8080/"
    },
    "id": "Yn8JbkuYQMWz",
    "outputId": "f998d7a6-1730-45c9-b87e-f374a6055d4d"
   },
   "outputs": [
    {
     "ename": "ImportError",
     "evalue": "Can't import ray.tune as some dependencies are missing. Run `pip install \"ray[tune]\"` to fix.",
     "output_type": "error",
     "traceback": [
      "\u001b[0;31m---------------------------------------------------------------------------\u001b[0m",
      "\u001b[0;31mModuleNotFoundError\u001b[0m                       Traceback (most recent call last)",
      "File \u001b[0;32m~/.local/lib/python3.8/site-packages/ray/tune/__init__.py:5\u001b[0m\n\u001b[1;32m      4\u001b[0m \u001b[38;5;28;01mimport\u001b[39;00m \u001b[38;5;21;01mrequests\u001b[39;00m  \u001b[38;5;66;03m# noqa: F401\u001b[39;00m\n\u001b[0;32m----> 5\u001b[0m \u001b[38;5;28;01mimport\u001b[39;00m \u001b[38;5;21;01mpyarrow\u001b[39;00m  \u001b[38;5;66;03m# noqa: F401\u001b[39;00m\n\u001b[1;32m      6\u001b[0m \u001b[38;5;28;01mimport\u001b[39;00m \u001b[38;5;21;01mfsspec\u001b[39;00m  \u001b[38;5;66;03m# noqa: F401\u001b[39;00m\n",
      "\u001b[0;31mModuleNotFoundError\u001b[0m: No module named 'pyarrow'",
      "\nThe above exception was the direct cause of the following exception:\n",
      "\u001b[0;31mImportError\u001b[0m                               Traceback (most recent call last)",
      "Cell \u001b[0;32mIn[6], line 3\u001b[0m\n\u001b[1;32m      1\u001b[0m \u001b[38;5;28;01mimport\u001b[39;00m \u001b[38;5;21;01mgym\u001b[39;00m\n\u001b[1;32m      2\u001b[0m \u001b[38;5;28;01mimport\u001b[39;00m \u001b[38;5;21;01mnumpy\u001b[39;00m \u001b[38;5;28;01mas\u001b[39;00m \u001b[38;5;21;01mnp\u001b[39;00m\n\u001b[0;32m----> 3\u001b[0m \u001b[38;5;28;01mfrom\u001b[39;00m \u001b[38;5;21;01mray\u001b[39;00m \u001b[38;5;28;01mimport\u001b[39;00m tune\n\u001b[1;32m      4\u001b[0m \u001b[38;5;28;01mfrom\u001b[39;00m \u001b[38;5;21;01mcomet_ml\u001b[39;00m \u001b[38;5;28;01mimport\u001b[39;00m Experiment\n\u001b[1;32m      5\u001b[0m \u001b[38;5;28;01mfrom\u001b[39;00m \u001b[38;5;21;01mstable_baselines3\u001b[39;00m\u001b[38;5;21;01m.\u001b[39;00m\u001b[38;5;21;01mcommon\u001b[39;00m\u001b[38;5;21;01m.\u001b[39;00m\u001b[38;5;21;01mcallbacks\u001b[39;00m \u001b[38;5;28;01mimport\u001b[39;00m EvalCallback\n",
      "File \u001b[0;32m~/.local/lib/python3.8/site-packages/ray/tune/__init__.py:8\u001b[0m\n\u001b[1;32m      6\u001b[0m     \u001b[38;5;28;01mimport\u001b[39;00m \u001b[38;5;21;01mfsspec\u001b[39;00m  \u001b[38;5;66;03m# noqa: F401\u001b[39;00m\n\u001b[1;32m      7\u001b[0m \u001b[38;5;28;01mexcept\u001b[39;00m \u001b[38;5;167;01mImportError\u001b[39;00m \u001b[38;5;28;01mas\u001b[39;00m exc:\n\u001b[0;32m----> 8\u001b[0m     \u001b[38;5;28;01mraise\u001b[39;00m \u001b[38;5;167;01mImportError\u001b[39;00m(\n\u001b[1;32m      9\u001b[0m         \u001b[38;5;124m\"\u001b[39m\u001b[38;5;124mCan\u001b[39m\u001b[38;5;124m'\u001b[39m\u001b[38;5;124mt import ray.tune as some dependencies are missing. \u001b[39m\u001b[38;5;124m\"\u001b[39m\n\u001b[1;32m     10\u001b[0m         \u001b[38;5;124m'\u001b[39m\u001b[38;5;124mRun `pip install \u001b[39m\u001b[38;5;124m\"\u001b[39m\u001b[38;5;124mray[tune]\u001b[39m\u001b[38;5;124m\"\u001b[39m\u001b[38;5;124m` to fix.\u001b[39m\u001b[38;5;124m'\u001b[39m\n\u001b[1;32m     11\u001b[0m     ) \u001b[38;5;28;01mfrom\u001b[39;00m \u001b[38;5;21;01mexc\u001b[39;00m\n\u001b[1;32m     14\u001b[0m \u001b[38;5;28;01mfrom\u001b[39;00m \u001b[38;5;21;01mray\u001b[39;00m\u001b[38;5;21;01m.\u001b[39;00m\u001b[38;5;21;01mtune\u001b[39;00m\u001b[38;5;21;01m.\u001b[39;00m\u001b[38;5;21;01merror\u001b[39;00m \u001b[38;5;28;01mimport\u001b[39;00m TuneError\n\u001b[1;32m     15\u001b[0m \u001b[38;5;28;01mfrom\u001b[39;00m \u001b[38;5;21;01mray\u001b[39;00m\u001b[38;5;21;01m.\u001b[39;00m\u001b[38;5;21;01mtune\u001b[39;00m\u001b[38;5;21;01m.\u001b[39;00m\u001b[38;5;21;01mtune\u001b[39;00m \u001b[38;5;28;01mimport\u001b[39;00m run_experiments, run\n",
      "\u001b[0;31mImportError\u001b[0m: Can't import ray.tune as some dependencies are missing. Run `pip install \"ray[tune]\"` to fix."
     ]
    }
   ],
   "source": [
    "import gym\n",
    "import numpy as np\n",
    "from ray import tune\n",
    "from comet_ml import Experiment\n",
    "from stable_baselines3.common.callbacks import EvalCallback\n",
    "from sb3_contrib.common.maskable.policies import MaskableActorCriticPolicy\n",
    "from sb3_contrib.common.wrappers import ActionMasker\n",
    "from sb3_contrib.ppo_mask import MaskablePPO\n",
    "\n",
    "def mask_fn(env):\n",
    "    # Implement your action mask function here\n",
    "    return env.unwrapped.action_mask(env.unwrapped.s)\n",
    "\n",
    "def train_maskable_ppo(config):\n",
    "    env = gym.make(\"Taxi-v3\")\n",
    "    env = ActionMasker(env, mask_fn)\n",
    "\n",
    "    model = MaskablePPO(\n",
    "        MaskableActorCriticPolicy,\n",
    "        env,\n",
    "        learning_rate=config['learning_rate'],\n",
    "        ent_coef=config['ent_coef'],\n",
    "        verbose=0\n",
    "    )\n",
    "\n",
    "    # Treina o modelo por um número fixo de iterações\n",
    "    model.learn(total_timesteps=5000000)\n",
    "\n",
    "    return model\n",
    "\n",
    "if __name__ == \"__main__\":\n",
    "    # Realiza a otimização de hiperparâmetros com o Ray Tune\n",
    "    analysis = tune.run(\n",
    "        train_maskable_ppo,\n",
    "        config={\n",
    "            'learning_rate': tune.loguniform(1e-5, 1e-2),\n",
    "            'ent_coef': tune.uniform(0.0, 0.2)\n",
    "        },\n",
    "        num_samples=50,\n",
    "        verbose=1\n",
    "    )\n",
    "\n",
    "    # Obtém a melhor configuração\n",
    "    best_config = analysis.get_best_config(metric=\"mean_reward\", mode=\"max\")\n",
    "\n",
    "    # Treina o MaskablePPO com a melhor configuração\n",
    "    best_model = train_maskable_ppo(best_config)\n",
    "\n",
    "    # Avalia o melhor modelo e salva os resultados no Comet\n",
    "    eval_env = gym.make(\"Taxi-v3\")\n",
    "    eval_env = ActionMasker(eval_env, mask_fn)\n",
    "\n",
    "    mean_reward, _ = best_model.evaluate(eval_env, n_eval_episodes=5)\n",
    "\n",
    "    experiment = Experiment()\n",
    "    experiment.log_metric(\"final_best_mean_reward\", mean_reward)\n",
    "    experiment.end()\n"
   ]
  },
  {
   "cell_type": "code",
   "execution_count": null,
   "metadata": {
    "id": "i6tN5oOUQ1L1"
   },
   "outputs": [],
   "source": []
  }
 ],
 "metadata": {
  "colab": {
   "authorship_tag": "ABX9TyOxvaMKpH81RyY69u6B18PC",
   "include_colab_link": true,
   "provenance": []
  },
  "kernelspec": {
   "display_name": "Python 3 (ipykernel)",
   "language": "python",
   "name": "python3"
  },
  "language_info": {
   "codemirror_mode": {
    "name": "ipython",
    "version": 3
   },
   "file_extension": ".py",
   "mimetype": "text/x-python",
   "name": "python",
   "nbconvert_exporter": "python",
   "pygments_lexer": "ipython3",
   "version": "3.8.10"
  }
 },
 "nbformat": 4,
 "nbformat_minor": 1
}
